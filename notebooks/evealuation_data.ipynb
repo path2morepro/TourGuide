{
 "cells": [
  {
   "cell_type": "code",
   "execution_count": 45,
   "metadata": {},
   "outputs": [],
   "source": [
    "import pandas as pd\n",
    "import os\n",
    "from groq import Groq\n",
    "client = Groq(\n",
    "\n",
    "    api_key=os.environ.get(\"GROQ_API_KEY\"),\n",
    "\n",
    ")"
   ]
  },
  {
   "cell_type": "code",
   "execution_count": 63,
   "metadata": {},
   "outputs": [],
   "source": [
    "df = pd.read_csv('../data/travel_data.csv')"
   ]
  },
  {
   "cell_type": "code",
   "execution_count": 64,
   "metadata": {},
   "outputs": [
    {
     "data": {
      "text/html": [
       "<div>\n",
       "<style scoped>\n",
       "    .dataframe tbody tr th:only-of-type {\n",
       "        vertical-align: middle;\n",
       "    }\n",
       "\n",
       "    .dataframe tbody tr th {\n",
       "        vertical-align: top;\n",
       "    }\n",
       "\n",
       "    .dataframe thead th {\n",
       "        text-align: right;\n",
       "    }\n",
       "</style>\n",
       "<table border=\"1\" class=\"dataframe\">\n",
       "  <thead>\n",
       "    <tr style=\"text-align: right;\">\n",
       "      <th></th>\n",
       "      <th>id</th>\n",
       "      <th>destination</th>\n",
       "      <th>user_review</th>\n",
       "      <th>travel_tip</th>\n",
       "      <th>rating</th>\n",
       "      <th>best_time_to_visit</th>\n",
       "      <th>local_cuisine_highlights</th>\n",
       "      <th>location_coordinates</th>\n",
       "      <th>popular_attractions</th>\n",
       "      <th>transportation_options</th>\n",
       "      <th>language_spoken</th>\n",
       "      <th>safety_rating</th>\n",
       "      <th>activities_available</th>\n",
       "      <th>cultural_highlights</th>\n",
       "    </tr>\n",
       "  </thead>\n",
       "  <tbody>\n",
       "    <tr>\n",
       "      <th>0</th>\n",
       "      <td>1</td>\n",
       "      <td>paris, france</td>\n",
       "      <td>Visiting the Eiffel Tower was breathtaking! Th...</td>\n",
       "      <td>Book tickets online to avoid long lines!</td>\n",
       "      <td>5</td>\n",
       "      <td>April to June, September</td>\n",
       "      <td>Croissants, Macarons</td>\n",
       "      <td>48.8584° N, 2.2945° E</td>\n",
       "      <td>Louvre, Notre-Dame, Montmartre</td>\n",
       "      <td>Metro, Buses, Walking</td>\n",
       "      <td>French</td>\n",
       "      <td>4</td>\n",
       "      <td>Seine River Cruises, Art Tours</td>\n",
       "      <td>Fashion, Art, Romantic Spots</td>\n",
       "    </tr>\n",
       "    <tr>\n",
       "      <th>1</th>\n",
       "      <td>2</td>\n",
       "      <td>tokyo, japan</td>\n",
       "      <td>Shibuya Crossing is a must-see. It's an incred...</td>\n",
       "      <td>Visit in the evening for the best lights!</td>\n",
       "      <td>4</td>\n",
       "      <td>March to May, October</td>\n",
       "      <td>Sushi, Ramen</td>\n",
       "      <td>35.6586° N, 139.7012° E</td>\n",
       "      <td>Senso-ji, Tokyo Tower</td>\n",
       "      <td>Train, Metro, Buses</td>\n",
       "      <td>Japanese</td>\n",
       "      <td>5</td>\n",
       "      <td>Temple Visits, Food Tours</td>\n",
       "      <td>Technology, Anime Culture</td>\n",
       "    </tr>\n",
       "    <tr>\n",
       "      <th>2</th>\n",
       "      <td>3</td>\n",
       "      <td>new_york, usa</td>\n",
       "      <td>Central Park is a great escape from the city h...</td>\n",
       "      <td>Rent a bike to explore more of the park.</td>\n",
       "      <td>5</td>\n",
       "      <td>Spring and Fall</td>\n",
       "      <td>Bagels, Cheesecake</td>\n",
       "      <td>40.7851° N, 73.9683° W</td>\n",
       "      <td>Statue of Liberty, Times Square</td>\n",
       "      <td>Subway, Buses, Taxis</td>\n",
       "      <td>English</td>\n",
       "      <td>4</td>\n",
       "      <td>Broadway Shows, City Tours</td>\n",
       "      <td>Diverse Cultures, Art Scene</td>\n",
       "    </tr>\n",
       "    <tr>\n",
       "      <th>3</th>\n",
       "      <td>4</td>\n",
       "      <td>rome, italy</td>\n",
       "      <td>The Colosseum is stunning! Make sure to take a...</td>\n",
       "      <td>Visit early in the morning to avoid crowds.</td>\n",
       "      <td>5</td>\n",
       "      <td>April to June, September</td>\n",
       "      <td>Pasta Carbonara, Gelato</td>\n",
       "      <td>41.8902° N, 12.4923° E</td>\n",
       "      <td>Vatican City, Pantheon</td>\n",
       "      <td>Metro, Buses, Walking</td>\n",
       "      <td>Italian</td>\n",
       "      <td>4</td>\n",
       "      <td>Historical Tours, Cooking Classes</td>\n",
       "      <td>Ancient History, Religion</td>\n",
       "    </tr>\n",
       "    <tr>\n",
       "      <th>4</th>\n",
       "      <td>5</td>\n",
       "      <td>cape_town, south_africa</td>\n",
       "      <td>Table Mountain offers the best views of the ci...</td>\n",
       "      <td>Take the cable car if you’re short on time.</td>\n",
       "      <td>4</td>\n",
       "      <td>November to February</td>\n",
       "      <td>Bobotie, Biltong</td>\n",
       "      <td>-33.9625° S, 18.4095° E</td>\n",
       "      <td>Cape of Good Hope, Robben Island</td>\n",
       "      <td>Car, Taxi, Walking</td>\n",
       "      <td>Afrikaans, English</td>\n",
       "      <td>4</td>\n",
       "      <td>Wine Tasting, Hiking</td>\n",
       "      <td>Cultural Heritage, Nature</td>\n",
       "    </tr>\n",
       "  </tbody>\n",
       "</table>\n",
       "</div>"
      ],
      "text/plain": [
       "   id              destination  \\\n",
       "0   1            paris, france   \n",
       "1   2             tokyo, japan   \n",
       "2   3            new_york, usa   \n",
       "3   4              rome, italy   \n",
       "4   5  cape_town, south_africa   \n",
       "\n",
       "                                         user_review  \\\n",
       "0  Visiting the Eiffel Tower was breathtaking! Th...   \n",
       "1  Shibuya Crossing is a must-see. It's an incred...   \n",
       "2  Central Park is a great escape from the city h...   \n",
       "3  The Colosseum is stunning! Make sure to take a...   \n",
       "4  Table Mountain offers the best views of the ci...   \n",
       "\n",
       "                                    travel_tip  rating  \\\n",
       "0     Book tickets online to avoid long lines!       5   \n",
       "1    Visit in the evening for the best lights!       4   \n",
       "2     Rent a bike to explore more of the park.       5   \n",
       "3  Visit early in the morning to avoid crowds.       5   \n",
       "4  Take the cable car if you’re short on time.       4   \n",
       "\n",
       "         best_time_to_visit local_cuisine_highlights     location_coordinates  \\\n",
       "0  April to June, September     Croissants, Macarons    48.8584° N, 2.2945° E   \n",
       "1     March to May, October             Sushi, Ramen  35.6586° N, 139.7012° E   \n",
       "2           Spring and Fall       Bagels, Cheesecake   40.7851° N, 73.9683° W   \n",
       "3  April to June, September  Pasta Carbonara, Gelato   41.8902° N, 12.4923° E   \n",
       "4      November to February         Bobotie, Biltong  -33.9625° S, 18.4095° E   \n",
       "\n",
       "                popular_attractions transportation_options  \\\n",
       "0    Louvre, Notre-Dame, Montmartre  Metro, Buses, Walking   \n",
       "1             Senso-ji, Tokyo Tower    Train, Metro, Buses   \n",
       "2   Statue of Liberty, Times Square   Subway, Buses, Taxis   \n",
       "3            Vatican City, Pantheon  Metro, Buses, Walking   \n",
       "4  Cape of Good Hope, Robben Island     Car, Taxi, Walking   \n",
       "\n",
       "      language_spoken  safety_rating               activities_available  \\\n",
       "0              French              4     Seine River Cruises, Art Tours   \n",
       "1            Japanese              5          Temple Visits, Food Tours   \n",
       "2             English              4         Broadway Shows, City Tours   \n",
       "3             Italian              4  Historical Tours, Cooking Classes   \n",
       "4  Afrikaans, English              4               Wine Tasting, Hiking   \n",
       "\n",
       "            cultural_highlights  \n",
       "0  Fashion, Art, Romantic Spots  \n",
       "1     Technology, Anime Culture  \n",
       "2   Diverse Cultures, Art Scene  \n",
       "3     Ancient History, Religion  \n",
       "4     Cultural Heritage, Nature  "
      ]
     },
     "execution_count": 64,
     "metadata": {},
     "output_type": "execute_result"
    }
   ],
   "source": [
    "\n",
    "# Insert ID column at the first position\n",
    "df.insert(0, 'id', range(1, len(df) + 1))\n",
    "# df['id'] = range(1, len(df) + 1)\n",
    "df.head()\n",
    "# "
   ]
  },
  {
   "cell_type": "code",
   "execution_count": 65,
   "metadata": {},
   "outputs": [],
   "source": [
    "\n",
    "\n",
    "documents = df.to_dict(orient='records')"
   ]
  },
  {
   "cell_type": "code",
   "execution_count": 66,
   "metadata": {},
   "outputs": [
    {
     "data": {
      "text/plain": [
       "{'id': 1,\n",
       " 'destination': 'paris, france',\n",
       " 'user_review': 'Visiting the Eiffel Tower was breathtaking! The views from the top are unforgettable.',\n",
       " 'travel_tip': 'Book tickets online to avoid long lines!',\n",
       " 'rating': 5,\n",
       " 'best_time_to_visit': 'April to June, September',\n",
       " 'local_cuisine_highlights': 'Croissants, Macarons',\n",
       " 'location_coordinates': '48.8584° N, 2.2945° E',\n",
       " 'popular_attractions': 'Louvre, Notre-Dame, Montmartre',\n",
       " 'transportation_options': 'Metro, Buses, Walking',\n",
       " 'language_spoken': 'French',\n",
       " 'safety_rating': 4,\n",
       " 'activities_available': 'Seine River Cruises, Art Tours',\n",
       " 'cultural_highlights': 'Fashion, Art, Romantic Spots'}"
      ]
     },
     "execution_count": 66,
     "metadata": {},
     "output_type": "execute_result"
    }
   ],
   "source": [
    "documents[0]"
   ]
  },
  {
   "cell_type": "code",
   "execution_count": 67,
   "metadata": {},
   "outputs": [],
   "source": [
    "prompt_template = \"\"\"\n",
    "You emulate a user of our travel assistant application.\n",
    "Formulate 5 questions this user might ask based on a provided exercise.\n",
    "Make the questions specific to this exercise.\n",
    "The record should contain the answer to the questions, and the questions should\n",
    "be complete and not too short. Use as fewer words as possible from the record. \n",
    "\n",
    "The record:\n",
    "\n",
    "destination: {destination}\n",
    "user_review: {user_review}\n",
    "travel_tip: {travel_tip}\n",
    "best_time_to_visit: {best_time_to_visit}\n",
    "local_cuisine_highlights: {local_cuisine_highlights}\n",
    "location_coordinates: {location_coordinates}\n",
    "popular_attractions: {popular_attractions}\n",
    "transportation_options: {transportation_options}\n",
    "language_spoken: {language_spoken}\n",
    "activities_available: {activities_available}\n",
    "cultural_highlights: {cultural_highlights}\n",
    "Provide the output in parsable JSON without using code blocks:\n",
    "\n",
    "{{\"questions\": [\"question1\", \"question2\", ..., \"question5\"]}}\n",
    "\"\"\".strip()\n"
   ]
  },
  {
   "cell_type": "code",
   "execution_count": 68,
   "metadata": {},
   "outputs": [
    {
     "name": "stdout",
     "output_type": "stream",
     "text": [
      "You emulate a user of our travel assistant application.\n",
      "Formulate 5 questions this user might ask based on a provided exercise.\n",
      "Make the questions specific to this exercise.\n",
      "The record should contain the answer to the questions, and the questions should\n",
      "be complete and not too short. Use as fewer words as possible from the record. \n",
      "\n",
      "The record:\n",
      "\n",
      "destination: paris, france\n",
      "user_review: Visiting the Eiffel Tower was breathtaking! The views from the top are unforgettable.\n",
      "travel_tip: Book tickets online to avoid long lines!\n",
      "best_time_to_visit: April to June, September\n",
      "local_cuisine_highlights: Croissants, Macarons\n",
      "location_coordinates: 48.8584° N, 2.2945° E\n",
      "popular_attractions: Louvre, Notre-Dame, Montmartre\n",
      "transportation_options: Metro, Buses, Walking\n",
      "language_spoken: French\n",
      "activities_available: Seine River Cruises, Art Tours\n",
      "cultural_highlights: Fashion, Art, Romantic Spots\n",
      "Provide the output in parsable JSON without using code blocks:\n",
      "\n",
      "{\"questions\": [\"question1\", \"question2\", ..., \"question5\"]}\n"
     ]
    }
   ],
   "source": [
    "prompt = prompt_template.format(**documents[0])\n",
    "print(prompt)"
   ]
  },
  {
   "cell_type": "code",
   "execution_count": 69,
   "metadata": {},
   "outputs": [],
   "source": [
    "def llm(prompt):\n",
    "    response = client.chat.completions.create(\n",
    "        model='llama-3.1-70b-versatile',\n",
    "        messages=[{\"role\": \"user\", \"content\": prompt}]\n",
    "    )\n",
    "    \n",
    "    return response.choices[0].message.content\n"
   ]
  },
  {
   "cell_type": "code",
   "execution_count": 70,
   "metadata": {},
   "outputs": [],
   "source": [
    "questions = llm(prompt)"
   ]
  },
  {
   "cell_type": "code",
   "execution_count": 71,
   "metadata": {},
   "outputs": [
    {
     "name": "stdout",
     "output_type": "stream",
     "text": [
      "{\"questions\": [\n",
      "\"What is the best time of the year to plan my trip to Paris?\",\n",
      "\"How do I avoid long lines when visiting popular attractions in Paris?\",\n",
      "\"Are there any popular river-based activities available in Paris that I should consider?\",\n",
      "\"Can I easily get around Paris on foot, or what other transportation options are available?\",\n",
      "\"What is a must-try local food item when visiting Paris that I should not miss?\"\n",
      "]}\n"
     ]
    }
   ],
   "source": [
    "print(questions)"
   ]
  },
  {
   "cell_type": "code",
   "execution_count": 72,
   "metadata": {},
   "outputs": [],
   "source": [
    "import json"
   ]
  },
  {
   "cell_type": "code",
   "execution_count": 73,
   "metadata": {},
   "outputs": [
    {
     "data": {
      "text/plain": [
       "{'questions': ['What is the best time of the year to plan my trip to Paris?',\n",
       "  'How do I avoid long lines when visiting popular attractions in Paris?',\n",
       "  'Are there any popular river-based activities available in Paris that I should consider?',\n",
       "  'Can I easily get around Paris on foot, or what other transportation options are available?',\n",
       "  'What is a must-try local food item when visiting Paris that I should not miss?']}"
      ]
     },
     "execution_count": 73,
     "metadata": {},
     "output_type": "execute_result"
    }
   ],
   "source": [
    "json.loads(questions)"
   ]
  },
  {
   "cell_type": "code",
   "execution_count": 74,
   "metadata": {},
   "outputs": [],
   "source": [
    "def generate_questions(doc):\n",
    "    prompt = prompt_template.format(**doc)\n",
    "\n",
    "    response = client.chat.completions.create(\n",
    "        model='llama-3.1-70b-versatile',\n",
    "        messages=[{\"role\": \"user\", \"content\": prompt}]\n",
    "    )\n",
    "\n",
    "    json_response = response.choices[0].message.content\n",
    "    return json_response"
   ]
  },
  {
   "cell_type": "code",
   "execution_count": 75,
   "metadata": {},
   "outputs": [],
   "source": [
    "from tqdm.auto import tqdm\n"
   ]
  },
  {
   "cell_type": "code",
   "execution_count": 76,
   "metadata": {},
   "outputs": [],
   "source": [
    "results = {}"
   ]
  },
  {
   "cell_type": "code",
   "execution_count": 87,
   "metadata": {},
   "outputs": [
    {
     "name": "stderr",
     "output_type": "stream",
     "text": [
      "100%|██████████| 215/215 [00:03<00:00, 70.61it/s] \n"
     ]
    }
   ],
   "source": [
    "for doc in tqdm(documents): \n",
    "    doc_id = doc['id']\n",
    "    if doc_id in results:\n",
    "        continue\n",
    "\n",
    "    questions_raw = generate_questions(doc)\n",
    "    questions = json.loads(questions_raw)\n",
    "    results[doc_id] = questions['questions']"
   ]
  },
  {
   "cell_type": "code",
   "execution_count": 88,
   "metadata": {},
   "outputs": [],
   "source": [
    "final_results = []\n",
    "\n",
    "for doc_id, questions in results.items():\n",
    "    for q in questions:\n",
    "        final_results.append((doc_id, q))"
   ]
  },
  {
   "cell_type": "code",
   "execution_count": 89,
   "metadata": {},
   "outputs": [
    {
     "data": {
      "text/plain": [
       "(1,\n",
       " 'What are some of the must-visit museums in Paris that house famous works of art?')"
      ]
     },
     "execution_count": 89,
     "metadata": {},
     "output_type": "execute_result"
    }
   ],
   "source": [
    "final_results[0]"
   ]
  },
  {
   "cell_type": "code",
   "execution_count": 90,
   "metadata": {},
   "outputs": [],
   "source": [
    "df_results = pd.DataFrame(final_results, columns=['id', 'question'])"
   ]
  },
  {
   "cell_type": "code",
   "execution_count": 91,
   "metadata": {},
   "outputs": [],
   "source": [
    "df_results.to_csv('../data/ground-truth-retrieval.csv', index=False)"
   ]
  },
  {
   "cell_type": "code",
   "execution_count": 92,
   "metadata": {},
   "outputs": [
    {
     "name": "stdout",
     "output_type": "stream",
     "text": [
      "id,question\n",
      "1,What are some of the must-visit museums in Paris that house famous works of art?\n",
      "1,Is it more convenient to explore Paris on foot or rely on public transportation?\n",
      "1,Are there specific seasons or months when the city's scenery is particularly beautiful?\n",
      "1,What are some sweet and delicious treats that I should try when visiting Paris?\n",
      "1,What are some tips for getting a good view of the city from a high vantage point?\n",
      "2,What are the geographical coordinates of the destination I am planning to visit?\n",
      "2,Can you recommend the best months of the year to travel to my destination?\n",
      "2,What are the options I have for getting around my destination?\n",
      "2,What are the must-try foods when I visit my destination?\n"
     ]
    }
   ],
   "source": [
    "!head ../data/ground-truth-retrieval.csv"
   ]
  },
  {
   "cell_type": "code",
   "execution_count": null,
   "metadata": {},
   "outputs": [],
   "source": []
  }
 ],
 "metadata": {
  "kernelspec": {
   "display_name": "base",
   "language": "python",
   "name": "python3"
  },
  "language_info": {
   "codemirror_mode": {
    "name": "ipython",
    "version": 3
   },
   "file_extension": ".py",
   "mimetype": "text/x-python",
   "name": "python",
   "nbconvert_exporter": "python",
   "pygments_lexer": "ipython3",
   "version": "3.12.2"
  }
 },
 "nbformat": 4,
 "nbformat_minor": 2
}
