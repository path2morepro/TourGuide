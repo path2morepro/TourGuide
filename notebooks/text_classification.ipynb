{
 "cells": [
  {
   "cell_type": "code",
   "execution_count": 15,
   "id": "895766d6",
   "metadata": {},
   "outputs": [],
   "source": [
    "# 模拟两阶段匹配：阶段一匹配偏好类别，阶段二在该类别中匹配 value 值\n",
    "\n",
    "from sentence_transformers import SentenceTransformer, util\n",
    "import pandas as pd\n",
    "\n",
    "# 初始化模型\n",
    "model = SentenceTransformer('all-MiniLM-L6-v2')\n",
    "#  这个加载时间也太长了"
   ]
  },
  {
   "cell_type": "code",
   "execution_count": 16,
   "id": "ad6735cd",
   "metadata": {},
   "outputs": [
    {
     "name": "stderr",
     "output_type": "stream",
     "text": [
      "/home/homeless/.pyenv/versions/3.10.13/envs/rag/lib/python3.10/site-packages/torch/nn/modules/module.py:1762: FutureWarning: `encoder_attention_mask` is deprecated and will be removed in version 4.55.0 for `BertSdpaSelfAttention.forward`.\n",
      "  return forward_call(*args, **kwargs)\n"
     ]
    },
    {
     "data": {
      "text/plain": [
       "torch.Size([384])"
      ]
     },
     "execution_count": 16,
     "metadata": {},
     "output_type": "execute_result"
    }
   ],
   "source": [
    "# 一级分类类别（简洁中性描述）\n",
    "categories = {\n",
    "    \"pace\": \"旅行节奏相关偏好\",\n",
    "    \"age_group\": \"旅客年龄段相关偏好\",\n",
    "    \"mobility\": \"行动能力相关偏好\",\n",
    "    \"language\": \"语言沟通相关偏好\",\n",
    "    \"avoid\": \"需要避免的元素\",\n",
    "    \"mood\": \"旅行氛围或体验偏好\",\n",
    "    \"attraction\": \"景点选择相关偏好\",\n",
    "    \"food\": \"饮食选择相关偏好\",\n",
    "    \"accommodation\": \"住宿安排相关偏好\",\n",
    "    \"transportation\": \"交通方式相关偏好\"\n",
    "}\n",
    "category_embeddings = {\n",
    "    k: model.encode(v, convert_to_tensor=True)\n",
    "    for k, v in categories.items()\n",
    "}\n",
    "\n",
    "category_embeddings[\"pace\"].shape"
   ]
  },
  {
   "cell_type": "code",
   "execution_count": 18,
   "id": "91fc0c7b",
   "metadata": {},
   "outputs": [],
   "source": [
    "# 二级 value 描述（分开写，避免混淆）\n",
    "value_candidates = {\n",
    "    \"pace\": {\n",
    "        \"relaxed\": \"轻松的旅行节奏，例如每天安排较少、有空闲时间\",\n",
    "        \"tight\": \"紧凑的旅行节奏，例如每天安排密集、活动连贯\",\n",
    "        \"free\": \"自由安排，无严格计划，根据兴趣调整\"\n",
    "    },\n",
    "    \"accommodation\": {\n",
    "        \"fixed\": \"住宿固定在一个地方，不频繁更换酒店\",\n",
    "        \"flexible\": \"可以多次更换住宿地点，根据路线调整\",\n",
    "        \"quiet\": \"住宿环境安静、不嘈杂\",\n",
    "        \"convenient\": \"生活便利，周围有超市、交通便利、设施齐全\",\n",
    "        \"luxury\": \"高端豪华型住宿，如星级酒店、度假村等\",\n",
    "        \"cheap\": \"价格低廉的住宿，适合预算有限的旅客\",\n",
    "        \"service\": \"住宿服务质量好，如清洁、接送、前台服务等\"\n",
    "    },\n",
    "    \"age_group\": {\n",
    "        \"kids\": \"适合带小孩出行的安排，如亲子景点、儿童友好设施等\",\n",
    "        \"aged\": \"适合老年人出行的安排，如缓慢节奏、便利交通等\",\n",
    "        \"students\": \"适合学生群体的安排，如经济实惠、自由灵活\",\n",
    "        \"couples\": \"适合情侣出行的安排，如浪漫景点、私密空间\"\n",
    "    },\n",
    "    \"mobility\": {\n",
    "        \"weak\": \"存在行动不便，如需轮椅、推婴儿车、腿脚不便\",\n",
    "        \"not_weak\": \"行动无明显限制，可自由步行或乘车\"\n",
    "    },\n",
    "    \"language\": {\n",
    "        \"barrier\": \"对语言障碍敏感，偏好中文服务或翻译支持\",\n",
    "        \"average\": \"有一定英文能力，日常交流尚可，或者使用翻译工具无压力\",\n",
    "        \"english_speaker\": \"可以流利使用英语，无语言障碍\"\n",
    "    },\n",
    "    \"avoid\": {\n",
    "        # 不使用二级分类，保持为空\n",
    "    },\n",
    "    \"mood\": {\n",
    "        \"adventure\": \"追求冒险和刺激体验，如极限运动、探索未知\",\n",
    "        \"relax\": \"偏好放松、疗愈行程，如SPA、海滩、温泉\",\n",
    "        \"romantic\": \"期望浪漫氛围，如情侣旅拍、日落晚餐\",\n",
    "        \"cultural\": \"追求文化沉浸体验，如观展、参加传统活动\",\n",
    "        \"spiritual\": \"寻求心灵平静，如自然冥想、宗教圣地\"\n",
    "    },\n",
    "    \"attraction\": {\n",
    "        \"nature\": \"偏好自然风光类景点，如山川、湖泊、公园\",\n",
    "        \"history\": \"偏好历史文化类景点，如古迹、遗址、博物馆\",\n",
    "        \"culture\": \"偏好城市人文、艺术展览等文化活动\",\n",
    "        \"entertainment\": \"偏好娱乐休闲活动，如游乐园、演出等\"\n",
    "    },\n",
    "    \"food\": {\n",
    "        \"feature\": \"偏好当地特色美食，愿意尝试新口味\",\n",
    "        \"no_interest\": \"对美食兴趣不大，无特别饮食偏好\",\n",
    "        \"hybrid\": \"希望中西结合，选择多样，如既吃中餐也尝西餐\"\n",
    "    },\n",
    "    \"transportation\": {\n",
    "        \"public\": \"偏好公共交通工具，如地铁、公交等\",\n",
    "        \"taxi\": \"偏好出租车或打车类服务，便捷直达\",\n",
    "        \"cheap\": \"希望交通费用低，优先考虑省钱方式\",\n",
    "        \"fast\": \"优先考虑快速到达方式，如高铁、飞机\"\n",
    "    }\n",
    "}\n"
   ]
  },
  {
   "cell_type": "code",
   "execution_count": 19,
   "id": "d08e65d6",
   "metadata": {},
   "outputs": [],
   "source": [
    "# 示例用户输入\n",
    "user_input = \"我们带着孩子，不希望太赶，最好轻松一点，也不喜欢天天换地方住，干净一点就好。饮食上怎么方便怎么来，最好是能体验一下当地特色。\"\n"
   ]
  },
  {
   "cell_type": "code",
   "execution_count": 20,
   "id": "2c2c524f",
   "metadata": {},
   "outputs": [
    {
     "data": {
      "text/plain": [
       "['我们带着孩子，不希望',\n",
       " '太赶，最好轻松一点，',\n",
       " '也不喜欢天天换地方住',\n",
       " '，干净一点就好。饮食',\n",
       " '上怎么方便怎么来，最',\n",
       " '好是能体验一下当地特',\n",
       " '色。']"
      ]
     },
     "execution_count": 20,
     "metadata": {},
     "output_type": "execute_result"
    }
   ],
   "source": [
    "\n",
    "# 文本切块（模拟固定长度分段）\n",
    "def fixed_chunk(text, max_len=25):\n",
    "    return [text[i:i+max_len] for i in range(0, len(text), max_len)]\n",
    "chunks = fixed_chunk(user_input, max_len=10)\n",
    "chunks\n",
    "# 所以期待的结果是 节奏轻松，不喜欢换住宿"
   ]
  },
  {
   "cell_type": "code",
   "execution_count": 35,
   "id": "851f1dbf",
   "metadata": {},
   "outputs": [
    {
     "name": "stdout",
     "output_type": "stream",
     "text": [
      "/home/homeless/GuideDemo/llm-rag-project/notebooks\n"
     ]
    },
    {
     "data": {
      "text/plain": [
       "['README.md',\n",
       " 'Pipfile',\n",
       " '.git',\n",
       " 'notebooks',\n",
       " 'cookies.txt',\n",
       " 'Dockerfile',\n",
       " 'images',\n",
       " 'docker-compose.yaml',\n",
       " 'data',\n",
       " 'travel_guide',\n",
       " '.env',\n",
       " 'Pipfile.lock',\n",
       " 'grafana']"
      ]
     },
     "execution_count": 35,
     "metadata": {},
     "output_type": "execute_result"
    }
   ],
   "source": [
    "import sys\n",
    "import os\n",
    "\n",
    "# 手动将当前 notebook 所在目录加入模块路径\n",
    "sys.path.append(os.path.abspath(\"..\"))\n",
    "print(os.path.abspath(\".\"))  # 确认当前 notebook 所在路径\n",
    "os.listdir(\"..\")\n",
    "\n"
   ]
  },
  {
   "cell_type": "code",
   "execution_count": 41,
   "id": "f5a1c2b9",
   "metadata": {},
   "outputs": [
    {
     "data": {
      "text/plain": [
       "['我们带着孩子',\n",
       " '不希望太急着',\n",
       " '最好轻松一点',\n",
       " '也不喜欢天天换地方住',\n",
       " '干净一点就好',\n",
       " '饮食上',\n",
       " '怎么方便、怎么来最好是能体验一下当地特色']"
      ]
     },
     "execution_count": 41,
     "metadata": {},
     "output_type": "execute_result"
    }
   ],
   "source": [
    "# 使用llm+prompt的方式来给文本添加标点\n",
    "\n",
    "from travel_guide.rag import llm\n",
    "\n",
    "def punctuate_and_chunk(text: str, max_len: int = 25) -> list:\n",
    "    \"\"\"\n",
    "    使用 LLM 给文本加标点并切分为句块。\n",
    "    \"\"\"\n",
    "    prompt = f\"请仅在下面这段文本中添加或者修改合适的标点符号，返回修改标点后的文本，不要加其他多余的东西：\\n{text.strip()}\"\n",
    "    result, _ = llm(prompt)\n",
    "    punctuated = result.strip()\n",
    "\n",
    "    # 简单按中文句读切分，句号、问号、感叹号、逗号等\n",
    "    import re\n",
    "    raw_chunks = re.split(r'[，。！？\\n]', punctuated)\n",
    "    chunks = [c.strip() for c in raw_chunks if c.strip()]\n",
    "\n",
    "    # 若仍有长句，可再切固定长度\n",
    "    final_chunks = []\n",
    "    for chunk in chunks:\n",
    "        if len(chunk) <= max_len:\n",
    "            final_chunks.append(chunk)\n",
    "        else:\n",
    "            for i in range(0, len(chunk), max_len):\n",
    "                final_chunks.append(chunk[i:i + max_len])\n",
    "\n",
    "    return final_chunks\n",
    "\n",
    "\n",
    "chunks = punctuate_and_chunk(user_input)\n",
    "chunks"
   ]
  },
  {
   "cell_type": "code",
   "execution_count": 42,
   "id": "02daa8f0",
   "metadata": {},
   "outputs": [],
   "source": [
    "\n",
    "# 两阶段匹配\n",
    "results = []\n",
    "threshold_cat = 0.5\n",
    "threshold_val = 0.5\n"
   ]
  },
  {
   "cell_type": "code",
   "execution_count": 47,
   "id": "fda58b84",
   "metadata": {},
   "outputs": [
    {
     "name": "stderr",
     "output_type": "stream",
     "text": [
      "/home/homeless/.pyenv/versions/3.10.13/envs/rag/lib/python3.10/site-packages/torch/nn/modules/module.py:1762: FutureWarning: `encoder_attention_mask` is deprecated and will be removed in version 4.55.0 for `BertSdpaSelfAttention.forward`.\n",
      "  return forward_call(*args, **kwargs)\n"
     ]
    },
    {
     "data": {
      "text/plain": [
       "[{'chunk': '最好轻松一点',\n",
       "  'category': 'transportation',\n",
       "  'value': 'fast',\n",
       "  'category_score': 0.607,\n",
       "  'value_score': 0.566},\n",
       " {'chunk': '也不喜欢天天换地方住',\n",
       "  'category': 'accommodation',\n",
       "  'value': 'fixed',\n",
       "  'category_score': 0.569,\n",
       "  'value_score': 0.744},\n",
       " {'chunk': '饮食上',\n",
       "  'category': 'food',\n",
       "  'value': 'no_interest',\n",
       "  'category_score': 0.654,\n",
       "  'value_score': 0.624},\n",
       " {'chunk': '怎么方便、怎么来最好是能体验一下当地特色',\n",
       "  'category': 'transportation',\n",
       "  'value': 'fast',\n",
       "  'category_score': 0.659,\n",
       "  'value_score': 0.663},\n",
       " {'chunk': '最好轻松一点',\n",
       "  'category': 'transportation',\n",
       "  'value': 'fast',\n",
       "  'category_score': 0.607,\n",
       "  'value_score': 0.566},\n",
       " {'chunk': '也不喜欢天天换地方住',\n",
       "  'category': 'accommodation',\n",
       "  'value': 'fixed',\n",
       "  'category_score': 0.569,\n",
       "  'value_score': 0.744},\n",
       " {'chunk': '饮食上',\n",
       "  'category': 'food',\n",
       "  'value': 'no_interest',\n",
       "  'category_score': 0.654,\n",
       "  'value_score': 0.624},\n",
       " {'chunk': '怎么方便、怎么来最好是能体验一下当地特色',\n",
       "  'category': 'transportation',\n",
       "  'value': 'fast',\n",
       "  'category_score': 0.659,\n",
       "  'value_score': 0.663}]"
      ]
     },
     "execution_count": 47,
     "metadata": {},
     "output_type": "execute_result"
    }
   ],
   "source": [
    "\n",
    "for chunk in chunks:\n",
    "    chunk_emb = model.encode(chunk, convert_to_tensor=True)\n",
    "    \n",
    "    # 阶段一：类别匹配\n",
    "    cat_scores = {\n",
    "        cat: float(util.cos_sim(chunk_emb, cat_emb))\n",
    "        for cat, cat_emb in category_embeddings.items()\n",
    "    }\n",
    "    best_cat = max(cat_scores, key=cat_scores.get)\n",
    "    if cat_scores[best_cat] < threshold_cat:\n",
    "        continue  # 不足以匹配任何类别\n",
    "    \n",
    "    # 阶段二：在该类别下匹配 value 值\n",
    "    values = value_candidates.get(best_cat, {})\n",
    "    if not values:\n",
    "        continue\n",
    "    val_scores = {\n",
    "        val: float(util.cos_sim(chunk_emb, model.encode(desc, convert_to_tensor=True)))\n",
    "        for val, desc in values.items()\n",
    "    }\n",
    "    best_val = max(val_scores, key=val_scores.get)\n",
    "    if val_scores[best_val] < threshold_val:\n",
    "        continue\n",
    "\n",
    "    results.append({\n",
    "        \"chunk\": chunk,\n",
    "        \"category\": best_cat,\n",
    "        \"value\": best_val,\n",
    "        \"category_score\": round(cat_scores[best_cat], 3),\n",
    "        \"value_score\": round(val_scores[best_val], 3)\n",
    "    })\n",
    "\n",
    "results"
   ]
  },
  {
   "cell_type": "code",
   "execution_count": 53,
   "id": "ca661f9f",
   "metadata": {},
   "outputs": [
    {
     "name": "stdout",
     "output_type": "stream",
     "text": [
      "我们带着孩子\n",
      "'mobility'\n",
      "不希望太赶\n",
      "pace\n",
      "tight\n",
      "最好轻松一点\n",
      "'pace'\n",
      "也不喜欢天天换地方住\n",
      "'accommodation'\n",
      "干净一点就好\n",
      "'mood'\n",
      "饮食上\n",
      "'food'\n",
      "怎样方便怎样来\n",
      "transportation\n",
      "fast\n",
      "最好能体验一下当地特色\n",
      "'food'\n"
     ]
    },
    {
     "data": {
      "text/plain": [
       "[{'chunk': '不希望太赶', 'category': 'pace', 'value': 'tight', 'value_score': 0.55},\n",
       " {'chunk': '怎样方便怎样来',\n",
       "  'category': 'transportation',\n",
       "  'value': 'fast',\n",
       "  'value_score': 0.72}]"
      ]
     },
     "execution_count": 53,
     "metadata": {},
     "output_type": "execute_result"
    }
   ],
   "source": [
    "# 一级分类采用llm\n",
    "# 二级分类采用文本分类\n",
    "def match_preferences(text: str, threshold_val=0.5, max_chunk_len=25) -> list:\n",
    "    \"\"\"\n",
    "    对用户输入文本进行处理：\n",
    "    1. 加标点\n",
    "    2. 分句\n",
    "    3. LLM 判断每个句子归属的字段（一级分类）\n",
    "    4. 使用 embedding 匹配具体值（value）\n",
    "    返回：匹配结果列表\n",
    "    \"\"\"\n",
    "    chunks = punctuate_and_chunk(text, max_len=max_chunk_len)\n",
    "    \n",
    "    results = []\n",
    "\n",
    "    for chunk in chunks:\n",
    "        # 1. 调用 LLM 判断一级分类\n",
    "        prompt = f\"请从以下字段中选择这句话最相关的一个：\\n\\n{chunk}\\n\\n字段选项：['pace', 'accommodation', 'food', 'transportation', 'age_group', 'mobility', 'language', 'avoid', 'mood', 'attraction']\\n\\n仅返回字段名称，例如：'pace'\"\n",
    "        field_result, _ = llm(prompt)\n",
    "        print(chunk)\n",
    "        print(field_result)\n",
    "        best_cat = field_result.strip().lower()\n",
    "\n",
    "        value_map = value_candidates.get(best_cat, {})\n",
    "        if not value_map:\n",
    "            continue\n",
    "\n",
    "        # 2. 使用 embedding 匹配字段下的值\n",
    "        chunk_emb = model.encode(chunk, convert_to_tensor=True)\n",
    "        val_scores = {\n",
    "            val: float(util.cos_sim(chunk_emb, model.encode(desc, convert_to_tensor=True)))\n",
    "            for val, desc in value_map.items() if desc.strip()\n",
    "        }\n",
    "        if not val_scores:\n",
    "            continue\n",
    "\n",
    "        best_val = max(val_scores, key=val_scores.get)\n",
    "        print(best_val)\n",
    "        if val_scores[best_val] < threshold_val:\n",
    "            continue\n",
    "\n",
    "        results.append({\n",
    "            \"chunk\": chunk,\n",
    "            \"category\": best_cat,\n",
    "            \"value\": best_val,\n",
    "            \"value_score\": round(val_scores[best_val], 3)\n",
    "        })\n",
    "\n",
    "    return results\n",
    "\n",
    "match_preferences(user_input)"
   ]
  },
  {
   "cell_type": "code",
   "execution_count": null,
   "id": "a1e9fd4a",
   "metadata": {},
   "outputs": [
    {
     "data": {
      "text/plain": [
       "{'pace': '',\n",
       " 'age_group': '',\n",
       " 'mobility': '',\n",
       " 'language': '',\n",
       " 'avoid': '',\n",
       " 'mood': '',\n",
       " 'attraction': '',\n",
       " 'food': '',\n",
       " 'accommodation': '',\n",
       " 'transportation': ''}"
      ]
     },
     "execution_count": 54,
     "metadata": {},
     "output_type": "execute_result"
    }
   ],
   "source": [
    "# 上面那个相似性的方法不太行\n",
    "from travel_guide.generate_prompt import classify_preferences_llm\n",
    "\n",
    "classify_preferences_llm(user_input)\n",
    "# 全使用llm更是扯淡"
   ]
  },
  {
   "cell_type": "markdown",
   "id": "ccc9a7de",
   "metadata": {},
   "source": [
    "         [用户原文]\n",
    "              ↓\n",
    "     +--------+--------+--------+\n",
    "     |        |        |        |\n",
    " [pace]   [accommodation]   [food]\n",
    "   ↓             ↓            ↓\n",
    "value1,2,3   value1,2,3   value1,2,3\n",
    "(sim match)  (sim match)  (sim match)\n",
    "   ↓             ↓            ↓\n",
    "\"relaxed\"    \"fixed\"      \"feature\"\n",
    "\n",
    "采用这种方案，schema.py先不要删除一级分类的部分\n"
   ]
  },
  {
   "cell_type": "code",
   "execution_count": 9,
   "id": "68e90608",
   "metadata": {},
   "outputs": [],
   "source": [
    "# 新的schema\n",
    "new_schema = {\n",
    "    \"pace\": {\n",
    "        \"relaxed\": [\n",
    "            \"我们想轻松一点，不要太赶\",\n",
    "            \"每天行程少一些比较好\",\n",
    "            \"能慢慢体验就行了\"\n",
    "        ],\n",
    "        \"tight\": [\n",
    "            \"希望行程安排紧凑一点\",\n",
    "            \"多安排些活动\",\n",
    "            \"尽量不要浪费时间\",\n",
    "            \"希望一次将这里的景点都看完\"\n",
    "        ],\n",
    "        \"free\": [\n",
    "            \"我们想自由一些，不按固定计划走\",\n",
    "            \"看当天心情安排活动\",\n",
    "            \"临时决定去哪都可以\",\n",
    "            \"随便\"\n",
    "        ]\n",
    "    },\n",
    "    \"accommodation\": {\n",
    "        \"fixed\": [\n",
    "            \"不想天天换地方住\",\n",
    "            \"住宿最好固定一个地方\",\n",
    "            \"希望住在同一个酒店\",\n",
    "            \"不想到处乱跑\",\n",
    "            \"选一个好地方一直住着\",\n",
    "            \"不像整天搬行李\",\n",
    "            \"找个地方待着就行\"\n",
    "        ],\n",
    "        \"flexible\": [\n",
    "            \"可以根据路线调整住宿\",\n",
    "            \"愿意换不同地方住住看\",\n",
    "            \"根据景点调整住所\"\n",
    "        ],\n",
    "        \"quiet\": [\n",
    "            \"希望住宿环境安静\",\n",
    "            \"不要太吵的地方\"\n",
    "        ]\n",
    "    },\n",
    "    \"food\": {\n",
    "        \"feature\": [\n",
    "            \"想尝试当地特色美食\",\n",
    "            \"想体验本地的饮食文化\"\n",
    "        ],\n",
    "        \"no_interest\": [\n",
    "            \"吃什么无所谓\",\n",
    "            \"对吃的没特别要求\",\n",
    "            \"怎么方便怎么来\",\n",
    "            \"饿不死就行\",\n",
    "            \"不饿着就行\",\n",
    "            \"吃泡面也行\",\n",
    "            \"其实便利店也可以，吃泡面也可以接受\"\n",
    "        ],\n",
    "        \"hybrid\": [\n",
    "            \"中餐西餐都可以\",\n",
    "            \"希望饮食选择多样化\"\n",
    "        ]\n",
    "    }\n",
    "}\n"
   ]
  },
  {
   "cell_type": "code",
   "execution_count": 6,
   "id": "f36c3c85",
   "metadata": {},
   "outputs": [],
   "source": [
    "from sentence_transformers import SentenceTransformer, util\n",
    "from collections import defaultdict\n",
    "\n",
    "model = SentenceTransformer('all-MiniLM-L6-v2')\n",
    "\n",
    "\n",
    "def retrieve_preferences(text: str, schema: dict, threshold=0.6) -> dict:\n",
    "    \"\"\"\n",
    "    使用语义匹配方式，从传入的表达样例 schema 中检索最相似的偏好值。\n",
    "    返回结构化偏好字段。\n",
    "    \"\"\"\n",
    "    preferences = {field: \"\" for field in schema}\n",
    "    query_emb = model.encode(text, convert_to_tensor=True)\n",
    "\n",
    "    for field, value_map in schema.items():\n",
    "        best_score = 0\n",
    "        best_value = \"\"\n",
    "        for val, example_list in value_map.items():\n",
    "            for example in example_list:\n",
    "                example_emb = model.encode(example, convert_to_tensor=True)\n",
    "                score = float(util.cos_sim(query_emb, example_emb))\n",
    "                if score > best_score:\n",
    "                    best_score = score\n",
    "                    best_value = val\n",
    "        if best_score >= threshold:\n",
    "            preferences[field] = best_value\n",
    "\n",
    "    return preferences"
   ]
  },
  {
   "cell_type": "code",
   "execution_count": 10,
   "id": "89b94b45",
   "metadata": {},
   "outputs": [
    {
     "name": "stderr",
     "output_type": "stream",
     "text": [
      "/home/homeless/.pyenv/versions/3.10.13/envs/rag/lib/python3.10/site-packages/torch/nn/modules/module.py:1762: FutureWarning: `encoder_attention_mask` is deprecated and will be removed in version 4.55.0 for `BertSdpaSelfAttention.forward`.\n",
      "  return forward_call(*args, **kwargs)\n"
     ]
    },
    {
     "name": "stdout",
     "output_type": "stream",
     "text": [
      "{'accommodation': 'fixed', 'food': 'feature', 'pace': 'relaxed'}\n"
     ]
    }
   ],
   "source": [
    "from pprint import pprint\n",
    "\n",
    "user_input = \"我们想轻松一点，不要太赶，也不想天天换地方住。吃饭上能方便就行，也希望能体验当地特色美食。\"\n",
    "result = retrieve_preferences(user_input, schema=new_schema)\n",
    "pprint(result)"
   ]
  },
  {
   "cell_type": "code",
   "execution_count": 12,
   "id": "46fccc7a",
   "metadata": {},
   "outputs": [
    {
     "name": "stdout",
     "output_type": "stream",
     "text": [
      "{'accommodation': 'fixed', 'food': 'no_interest', 'pace': 'free'}\n"
     ]
    }
   ],
   "source": [
    "user_input = \"我不想到处乱跑，找个地方清净一直待着就行，吃上不讲究，不饿着就行\"\n",
    "result = retrieve_preferences(user_input, schema=new_schema)\n",
    "pprint(result)\n"
   ]
  }
 ],
 "metadata": {
  "kernelspec": {
   "display_name": "rag",
   "language": "python",
   "name": "python3"
  },
  "language_info": {
   "codemirror_mode": {
    "name": "ipython",
    "version": 3
   },
   "file_extension": ".py",
   "mimetype": "text/x-python",
   "name": "python",
   "nbconvert_exporter": "python",
   "pygments_lexer": "ipython3",
   "version": "3.10.13"
  }
 },
 "nbformat": 4,
 "nbformat_minor": 5
}
