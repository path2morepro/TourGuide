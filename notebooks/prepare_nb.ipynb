{
 "cells": [
  {
   "cell_type": "code",
   "execution_count": 2,
   "metadata": {},
   "outputs": [],
   "source": [
    "import pandas as pd"
   ]
  },
  {
   "cell_type": "code",
   "execution_count": 3,
   "metadata": {},
   "outputs": [
    {
     "name": "stdout",
     "output_type": "stream",
     "text": [
      "--2024-10-28 20:04:52--  https://raw.githubusercontent.com/alexeygrigorev/minsearch/main/minsearch.py\n",
      "Resolving raw.githubusercontent.com (raw.githubusercontent.com)... 2606:50c0:8001::154, 2606:50c0:8000::154, 2606:50c0:8002::154, ...\n",
      "Connecting to raw.githubusercontent.com (raw.githubusercontent.com)|2606:50c0:8001::154|:443... connected.\n",
      "HTTP request sent, awaiting response... 200 OK\n",
      "Length: 3832 (3.7K) [text/plain]\n",
      "Saving to: ‘minsearch.py.5’\n",
      "\n",
      "minsearch.py.5      100%[===================>]   3.74K  --.-KB/s    in 0s      \n",
      "\n",
      "2024-10-28 20:04:52 (13.2 MB/s) - ‘minsearch.py.5’ saved [3832/3832]\n",
      "\n"
     ]
    }
   ],
   "source": [
    "!wget https://raw.githubusercontent.com/alexeygrigorev/minsearch/main/minsearch.py"
   ]
  },
  {
   "cell_type": "code",
   "execution_count": 4,
   "metadata": {},
   "outputs": [],
   "source": [
    "df = pd.read_csv(\"../data/travel_data.csv\")"
   ]
  },
  {
   "cell_type": "code",
   "execution_count": 5,
   "metadata": {},
   "outputs": [
    {
     "data": {
      "text/html": [
       "<div>\n",
       "<style scoped>\n",
       "    .dataframe tbody tr th:only-of-type {\n",
       "        vertical-align: middle;\n",
       "    }\n",
       "\n",
       "    .dataframe tbody tr th {\n",
       "        vertical-align: top;\n",
       "    }\n",
       "\n",
       "    .dataframe thead th {\n",
       "        text-align: right;\n",
       "    }\n",
       "</style>\n",
       "<table border=\"1\" class=\"dataframe\">\n",
       "  <thead>\n",
       "    <tr style=\"text-align: right;\">\n",
       "      <th></th>\n",
       "      <th>id</th>\n",
       "      <th>destination</th>\n",
       "      <th>user_review</th>\n",
       "      <th>travel_tip</th>\n",
       "      <th>rating</th>\n",
       "      <th>best_time_to_visit</th>\n",
       "      <th>local_cuisine_highlights</th>\n",
       "      <th>location_coordinates</th>\n",
       "      <th>popular_attractions</th>\n",
       "      <th>transportation_options</th>\n",
       "      <th>language_spoken</th>\n",
       "      <th>safety_rating</th>\n",
       "      <th>activities_available</th>\n",
       "      <th>cultural_highlights</th>\n",
       "    </tr>\n",
       "  </thead>\n",
       "  <tbody>\n",
       "    <tr>\n",
       "      <th>0</th>\n",
       "      <td>1</td>\n",
       "      <td>paris, france</td>\n",
       "      <td>Visiting the Eiffel Tower was breathtaking! Th...</td>\n",
       "      <td>Book tickets online to avoid long lines!</td>\n",
       "      <td>5</td>\n",
       "      <td>April to June, September</td>\n",
       "      <td>Croissants, Macarons</td>\n",
       "      <td>48.8584° N, 2.2945° E</td>\n",
       "      <td>Louvre, Notre-Dame, Montmartre</td>\n",
       "      <td>Metro, Buses, Walking</td>\n",
       "      <td>French</td>\n",
       "      <td>4</td>\n",
       "      <td>Seine River Cruises, Art Tours</td>\n",
       "      <td>Fashion, Art, Romantic Spots</td>\n",
       "    </tr>\n",
       "    <tr>\n",
       "      <th>1</th>\n",
       "      <td>2</td>\n",
       "      <td>tokyo, japan</td>\n",
       "      <td>Shibuya Crossing is a must-see. It's an incred...</td>\n",
       "      <td>Visit in the evening for the best lights!</td>\n",
       "      <td>4</td>\n",
       "      <td>March to May, October</td>\n",
       "      <td>Sushi, Ramen</td>\n",
       "      <td>35.6586° N, 139.7012° E</td>\n",
       "      <td>Senso-ji, Tokyo Tower</td>\n",
       "      <td>Train, Metro, Buses</td>\n",
       "      <td>Japanese</td>\n",
       "      <td>5</td>\n",
       "      <td>Temple Visits, Food Tours</td>\n",
       "      <td>Technology, Anime Culture</td>\n",
       "    </tr>\n",
       "    <tr>\n",
       "      <th>2</th>\n",
       "      <td>3</td>\n",
       "      <td>new_york, usa</td>\n",
       "      <td>Central Park is a great escape from the city h...</td>\n",
       "      <td>Rent a bike to explore more of the park.</td>\n",
       "      <td>5</td>\n",
       "      <td>Spring and Fall</td>\n",
       "      <td>Bagels, Cheesecake</td>\n",
       "      <td>40.7851° N, 73.9683° W</td>\n",
       "      <td>Statue of Liberty, Times Square</td>\n",
       "      <td>Subway, Buses, Taxis</td>\n",
       "      <td>English</td>\n",
       "      <td>4</td>\n",
       "      <td>Broadway Shows, City Tours</td>\n",
       "      <td>Diverse Cultures, Art Scene</td>\n",
       "    </tr>\n",
       "    <tr>\n",
       "      <th>3</th>\n",
       "      <td>4</td>\n",
       "      <td>rome, italy</td>\n",
       "      <td>The Colosseum is stunning! Make sure to take a...</td>\n",
       "      <td>Visit early in the morning to avoid crowds.</td>\n",
       "      <td>5</td>\n",
       "      <td>April to June, September</td>\n",
       "      <td>Pasta Carbonara, Gelato</td>\n",
       "      <td>41.8902° N, 12.4923° E</td>\n",
       "      <td>Vatican City, Pantheon</td>\n",
       "      <td>Metro, Buses, Walking</td>\n",
       "      <td>Italian</td>\n",
       "      <td>4</td>\n",
       "      <td>Historical Tours, Cooking Classes</td>\n",
       "      <td>Ancient History, Religion</td>\n",
       "    </tr>\n",
       "    <tr>\n",
       "      <th>4</th>\n",
       "      <td>5</td>\n",
       "      <td>cape_town, south_africa</td>\n",
       "      <td>Table Mountain offers the best views of the ci...</td>\n",
       "      <td>Take the cable car if you’re short on time.</td>\n",
       "      <td>4</td>\n",
       "      <td>November to February</td>\n",
       "      <td>Bobotie, Biltong</td>\n",
       "      <td>-33.9625° S, 18.4095° E</td>\n",
       "      <td>Cape of Good Hope, Robben Island</td>\n",
       "      <td>Car, Taxi, Walking</td>\n",
       "      <td>Afrikaans, English</td>\n",
       "      <td>4</td>\n",
       "      <td>Wine Tasting, Hiking</td>\n",
       "      <td>Cultural Heritage, Nature</td>\n",
       "    </tr>\n",
       "  </tbody>\n",
       "</table>\n",
       "</div>"
      ],
      "text/plain": [
       "   id              destination  \\\n",
       "0   1            paris, france   \n",
       "1   2             tokyo, japan   \n",
       "2   3            new_york, usa   \n",
       "3   4              rome, italy   \n",
       "4   5  cape_town, south_africa   \n",
       "\n",
       "                                         user_review  \\\n",
       "0  Visiting the Eiffel Tower was breathtaking! Th...   \n",
       "1  Shibuya Crossing is a must-see. It's an incred...   \n",
       "2  Central Park is a great escape from the city h...   \n",
       "3  The Colosseum is stunning! Make sure to take a...   \n",
       "4  Table Mountain offers the best views of the ci...   \n",
       "\n",
       "                                    travel_tip  rating  \\\n",
       "0     Book tickets online to avoid long lines!       5   \n",
       "1    Visit in the evening for the best lights!       4   \n",
       "2     Rent a bike to explore more of the park.       5   \n",
       "3  Visit early in the morning to avoid crowds.       5   \n",
       "4  Take the cable car if you’re short on time.       4   \n",
       "\n",
       "         best_time_to_visit local_cuisine_highlights     location_coordinates  \\\n",
       "0  April to June, September     Croissants, Macarons    48.8584° N, 2.2945° E   \n",
       "1     March to May, October             Sushi, Ramen  35.6586° N, 139.7012° E   \n",
       "2           Spring and Fall       Bagels, Cheesecake   40.7851° N, 73.9683° W   \n",
       "3  April to June, September  Pasta Carbonara, Gelato   41.8902° N, 12.4923° E   \n",
       "4      November to February         Bobotie, Biltong  -33.9625° S, 18.4095° E   \n",
       "\n",
       "                popular_attractions transportation_options  \\\n",
       "0    Louvre, Notre-Dame, Montmartre  Metro, Buses, Walking   \n",
       "1             Senso-ji, Tokyo Tower    Train, Metro, Buses   \n",
       "2   Statue of Liberty, Times Square   Subway, Buses, Taxis   \n",
       "3            Vatican City, Pantheon  Metro, Buses, Walking   \n",
       "4  Cape of Good Hope, Robben Island     Car, Taxi, Walking   \n",
       "\n",
       "      language_spoken  safety_rating               activities_available  \\\n",
       "0              French              4     Seine River Cruises, Art Tours   \n",
       "1            Japanese              5          Temple Visits, Food Tours   \n",
       "2             English              4         Broadway Shows, City Tours   \n",
       "3             Italian              4  Historical Tours, Cooking Classes   \n",
       "4  Afrikaans, English              4               Wine Tasting, Hiking   \n",
       "\n",
       "            cultural_highlights  \n",
       "0  Fashion, Art, Romantic Spots  \n",
       "1     Technology, Anime Culture  \n",
       "2   Diverse Cultures, Art Scene  \n",
       "3     Ancient History, Religion  \n",
       "4     Cultural Heritage, Nature  "
      ]
     },
     "execution_count": 5,
     "metadata": {},
     "output_type": "execute_result"
    }
   ],
   "source": [
    "df.insert(0, 'id', range(1, len(df) + 1))\n",
    "df.head()"
   ]
  },
  {
   "cell_type": "code",
   "execution_count": 6,
   "metadata": {},
   "outputs": [
    {
     "data": {
      "text/plain": [
       "{'id': 1,\n",
       " 'destination': 'paris, france',\n",
       " 'user_review': 'Visiting the Eiffel Tower was breathtaking! The views from the top are unforgettable.',\n",
       " 'travel_tip': 'Book tickets online to avoid long lines!',\n",
       " 'rating': 5,\n",
       " 'best_time_to_visit': 'April to June, September',\n",
       " 'local_cuisine_highlights': 'Croissants, Macarons',\n",
       " 'location_coordinates': '48.8584° N, 2.2945° E',\n",
       " 'popular_attractions': 'Louvre, Notre-Dame, Montmartre',\n",
       " 'transportation_options': 'Metro, Buses, Walking',\n",
       " 'language_spoken': 'French',\n",
       " 'safety_rating': 4,\n",
       " 'activities_available': 'Seine River Cruises, Art Tours',\n",
       " 'cultural_highlights': 'Fashion, Art, Romantic Spots'}"
      ]
     },
     "execution_count": 6,
     "metadata": {},
     "output_type": "execute_result"
    }
   ],
   "source": [
    "documents = df.to_dict(orient='records')\n",
    "documents[0]"
   ]
  },
  {
   "cell_type": "code",
   "execution_count": 7,
   "metadata": {},
   "outputs": [],
   "source": [
    "import minsearch"
   ]
  },
  {
   "cell_type": "code",
   "execution_count": 8,
   "metadata": {},
   "outputs": [
    {
     "data": {
      "text/plain": [
       "Index(['id', 'destination', 'user_review', 'travel_tip', 'rating',\n",
       "       'best_time_to_visit', 'local_cuisine_highlights',\n",
       "       'location_coordinates', 'popular_attractions', 'transportation_options',\n",
       "       'language_spoken', 'safety_rating', 'activities_available',\n",
       "       'cultural_highlights'],\n",
       "      dtype='object')"
      ]
     },
     "execution_count": 8,
     "metadata": {},
     "output_type": "execute_result"
    }
   ],
   "source": [
    "df.columns"
   ]
  },
  {
   "cell_type": "code",
   "execution_count": 9,
   "metadata": {},
   "outputs": [
    {
     "name": "stdout",
     "output_type": "stream",
     "text": [
      "Before conversion:\n",
      "id                           int64\n",
      "destination                 object\n",
      "user_review                 object\n",
      "travel_tip                  object\n",
      "rating                       int64\n",
      "best_time_to_visit          object\n",
      "local_cuisine_highlights    object\n",
      "location_coordinates        object\n",
      "popular_attractions         object\n",
      "transportation_options      object\n",
      "language_spoken             object\n",
      "safety_rating                int64\n",
      "activities_available        object\n",
      "cultural_highlights         object\n",
      "dtype: object\n"
     ]
    }
   ],
   "source": [
    "\n",
    "print(\"Before conversion:\")\n",
    "print(df.dtypes)\n",
    "\n",
    "\n",
    "# # Convert integer columns to string\n",
    "# int_columns = ['rating', 'safety_rating']  # specify the integer columns\n",
    "# df[int_columns] = df[int_columns].astype(str)\n",
    "\n",
    "# # Display the DataFrame after conversion (optional)\n",
    "# print(\"\\nAfter conversion:\")\n",
    "# print(df.dtypes)"
   ]
  },
  {
   "cell_type": "code",
   "execution_count": 10,
   "metadata": {},
   "outputs": [],
   "source": [
    "index = minsearch.Index(\n",
    "    text_fields=['destination', 'user_review', 'travel_tip',\n",
    "       'best_time_to_visit', 'local_cuisine_highlights',\n",
    "       'location_coordinates', 'popular_attractions', 'transportation_options',\n",
    "       'language_spoken', 'activities_available',\n",
    "       'cultural_highlights'],\n",
    "    keyword_fields=['id']\n",
    ")"
   ]
  },
  {
   "cell_type": "code",
   "execution_count": 11,
   "metadata": {},
   "outputs": [
    {
     "data": {
      "text/plain": [
       "<minsearch.Index at 0x7dd4f835c5c0>"
      ]
     },
     "execution_count": 11,
     "metadata": {},
     "output_type": "execute_result"
    }
   ],
   "source": [
    "index.fit(documents)"
   ]
  },
  {
   "cell_type": "code",
   "execution_count": 12,
   "metadata": {},
   "outputs": [],
   "source": [
    "import os\n",
    "from groq import Groq"
   ]
  },
  {
   "cell_type": "code",
   "execution_count": 13,
   "metadata": {},
   "outputs": [],
   "source": [
    "client = Groq(\n",
    "\n",
    "    api_key=os.environ.get(\"GROQ_API_KEY\"),\n",
    "\n",
    ")"
   ]
  },
  {
   "cell_type": "code",
   "execution_count": 14,
   "metadata": {},
   "outputs": [],
   "source": [
    "def search(query):\n",
    "    boost = {}\n",
    "\n",
    "    results = index.search(\n",
    "        query=query,\n",
    "        filter_dict={},\n",
    "        boost_dict=boost,\n",
    "        num_results=5\n",
    "    )\n",
    "\n",
    "    return results"
   ]
  },
  {
   "cell_type": "code",
   "execution_count": 15,
   "metadata": {},
   "outputs": [],
   "source": [
    "prompt_template = \"\"\"\n",
    "You're a travel expert. Answer the QUESTION based on the CONTEXT from our exercises database.\n",
    "Use only the facts from the CONTEXT when answering the QUESTION.\n",
    "\n",
    "QUESTION: {question}\n",
    "\n",
    "CONTEXT:\n",
    "{context}\n",
    "\"\"\".strip()\n",
    "\n",
    "entry_template = \"\"\"\n",
    "destination: {destination}\n",
    "user_review: {user_review}\n",
    "travel_tip: {travel_tip}\n",
    "best_time_to_visit: {best_time_to_visit}\n",
    "local_cuisine_highlights: {local_cuisine_highlights}\n",
    "location_coordinates: {location_coordinates}\n",
    "popular_attractions: {popular_attractions}\n",
    "transportation_options: {transportation_options}\n",
    "language_spoken: {language_spoken}\n",
    "activities_available: {activities_available}\n",
    "cultural_highlights: {cultural_highlights}\n",
    "\n",
    "\n",
    "\"\"\".strip()\n",
    "\n",
    "def build_prompt(query, search_results):\n",
    "    context = \"\"\n",
    "    \n",
    "    for doc in search_results:\n",
    "        context = context + entry_template.format(**doc) + \"\\n\\n\"\n",
    "\n",
    "    prompt = prompt_template.format(question=query, context=context).strip()\n",
    "    return prompt\n"
   ]
  },
  {
   "cell_type": "code",
   "execution_count": 16,
   "metadata": {},
   "outputs": [],
   "source": [
    "def llm(prompt, model='llama3-8b-8192'):\n",
    "    response = client.chat.completions.create(\n",
    "        model=model,\n",
    "        messages=[{\"role\": \"user\", \"content\": prompt}]\n",
    "    )\n",
    "    \n",
    "    return response.choices[0].message.content"
   ]
  },
  {
   "cell_type": "code",
   "execution_count": 16,
   "metadata": {},
   "outputs": [],
   "source": [
    "def rag(query, model='llama-3.1-70b-versatile'):\n",
    "    search_results = search(query)\n",
    "    # print(search_results)\n",
    "    prompt = build_prompt(query, search_results)\n",
    "    # print(prompt)\n",
    "    answer = llm(prompt, model=model)\n",
    "    return answer\n"
   ]
  },
  {
   "cell_type": "code",
   "execution_count": 24,
   "metadata": {},
   "outputs": [
    {
     "name": "stdout",
     "output_type": "stream",
     "text": [
      "You can travel to the following places in Sydney:\n",
      "\n",
      "1. Bondi Beach: It's a beautiful beach and a must-visit attraction in Sydney. You can also take a coastal walk from Bondi to Coogee, which is a highlight of the city.\n",
      "2. Sydney Opera House: This iconic building is one of the most popular attractions in Sydney.\n",
      "3. Harbour Bridge: Another iconic landmark in Sydney, the Harbour Bridge is a must-visit attraction.\n",
      "4. Coogee: This beach is a great destination for swimming and taking in the scenic views.\n",
      "\n",
      "You can use the following transportation options to get around Sydney:\n",
      "\n",
      "1. Train\n",
      "2. Bus\n",
      "3. Ferry\n",
      "\n",
      "Some popular activities to do in Sydney include:\n",
      "\n",
      "1. Surfing: Sydney has some of the best surfing spots in Australia.\n",
      "2. Wildlife Tours: You can take a guided tour to explore the wildlife in and around Sydney.\n",
      "\n",
      "Don't forget to try some of the local cuisine highlights, including:\n",
      "\n",
      "1. Meat Pies\n",
      "2. Lamingtons\n",
      "\n",
      "And remember to bring sunscreen, as the sun can be intense in Sydney!\n"
     ]
    }
   ],
   "source": [
    "question = 'where can i travel in sydney'\n",
    "answer = rag(question)\n",
    "print(answer)\n"
   ]
  },
  {
   "cell_type": "markdown",
   "metadata": {},
   "source": [
    "Retrieval evaluation"
   ]
  },
  {
   "cell_type": "code",
   "execution_count": 25,
   "metadata": {},
   "outputs": [],
   "source": [
    "df_question = pd.read_csv('../data/ground-truth-retrieval.csv')"
   ]
  },
  {
   "cell_type": "code",
   "execution_count": 26,
   "metadata": {},
   "outputs": [
    {
     "data": {
      "text/html": [
       "<div>\n",
       "<style scoped>\n",
       "    .dataframe tbody tr th:only-of-type {\n",
       "        vertical-align: middle;\n",
       "    }\n",
       "\n",
       "    .dataframe tbody tr th {\n",
       "        vertical-align: top;\n",
       "    }\n",
       "\n",
       "    .dataframe thead th {\n",
       "        text-align: right;\n",
       "    }\n",
       "</style>\n",
       "<table border=\"1\" class=\"dataframe\">\n",
       "  <thead>\n",
       "    <tr style=\"text-align: right;\">\n",
       "      <th></th>\n",
       "      <th>id</th>\n",
       "      <th>question</th>\n",
       "    </tr>\n",
       "  </thead>\n",
       "  <tbody>\n",
       "    <tr>\n",
       "      <th>0</th>\n",
       "      <td>1</td>\n",
       "      <td>What are some of the must-visit museums in Par...</td>\n",
       "    </tr>\n",
       "    <tr>\n",
       "      <th>1</th>\n",
       "      <td>1</td>\n",
       "      <td>Is it more convenient to explore Paris on foot...</td>\n",
       "    </tr>\n",
       "    <tr>\n",
       "      <th>2</th>\n",
       "      <td>1</td>\n",
       "      <td>Are there specific seasons or months when the ...</td>\n",
       "    </tr>\n",
       "    <tr>\n",
       "      <th>3</th>\n",
       "      <td>1</td>\n",
       "      <td>What are some sweet and delicious treats that ...</td>\n",
       "    </tr>\n",
       "    <tr>\n",
       "      <th>4</th>\n",
       "      <td>1</td>\n",
       "      <td>What are some tips for getting a good view of ...</td>\n",
       "    </tr>\n",
       "  </tbody>\n",
       "</table>\n",
       "</div>"
      ],
      "text/plain": [
       "   id                                           question\n",
       "0   1  What are some of the must-visit museums in Par...\n",
       "1   1  Is it more convenient to explore Paris on foot...\n",
       "2   1  Are there specific seasons or months when the ...\n",
       "3   1  What are some sweet and delicious treats that ...\n",
       "4   1  What are some tips for getting a good view of ..."
      ]
     },
     "execution_count": 26,
     "metadata": {},
     "output_type": "execute_result"
    }
   ],
   "source": [
    "df_question.head()"
   ]
  },
  {
   "cell_type": "code",
   "execution_count": 27,
   "metadata": {},
   "outputs": [],
   "source": [
    "ground_truth = df_question.to_dict(orient='records')"
   ]
  },
  {
   "cell_type": "code",
   "execution_count": 28,
   "metadata": {},
   "outputs": [
    {
     "data": {
      "text/plain": [
       "{'id': 1,\n",
       " 'question': 'What are some of the must-visit museums in Paris that house famous works of art?'}"
      ]
     },
     "execution_count": 28,
     "metadata": {},
     "output_type": "execute_result"
    }
   ],
   "source": [
    "ground_truth[0]"
   ]
  },
  {
   "cell_type": "code",
   "execution_count": 29,
   "metadata": {},
   "outputs": [],
   "source": [
    "def hit_rate(relevance_total):\n",
    "    cnt = 0\n",
    "\n",
    "    for line in relevance_total:\n",
    "        if True in line:\n",
    "            cnt = cnt + 1\n",
    "\n",
    "    return cnt / len(relevance_total)\n",
    "\n",
    "def mrr(relevance_total):\n",
    "    total_score = 0.0\n",
    "\n",
    "    for line in relevance_total:\n",
    "        for rank in range(len(line)):\n",
    "            if line[rank] == True:\n",
    "                total_score = total_score + 1 / (rank + 1)\n",
    "\n",
    "    return total_score / len(relevance_total)"
   ]
  },
  {
   "cell_type": "code",
   "execution_count": 30,
   "metadata": {},
   "outputs": [],
   "source": [
    "def minsearch_search(query):\n",
    "    boost = {}\n",
    "\n",
    "    results = index.search(\n",
    "        query=query,\n",
    "        filter_dict={},\n",
    "        boost_dict=boost,\n",
    "        num_results=5\n",
    "    )\n",
    "\n",
    "    return results\n"
   ]
  },
  {
   "cell_type": "code",
   "execution_count": 31,
   "metadata": {},
   "outputs": [],
   "source": [
    "def evaluate(ground_truth, search_function):\n",
    "    relevance_total = []\n",
    "\n",
    "    for q in tqdm(ground_truth):\n",
    "        doc_id = q['id']\n",
    "        results = search_function(q)\n",
    "        # print(results)\n",
    "        relevance = [d['id'] == doc_id for d in results]\n",
    "        relevance_total.append(relevance)\n",
    "\n",
    "    return {\n",
    "        'hit_rate': hit_rate(relevance_total),\n",
    "        'mrr': mrr(relevance_total),\n",
    "    }\n"
   ]
  },
  {
   "cell_type": "code",
   "execution_count": 32,
   "metadata": {},
   "outputs": [
    {
     "name": "stderr",
     "output_type": "stream",
     "text": [
      "/home/modf/miniconda3/lib/python3.12/site-packages/tqdm/auto.py:21: TqdmWarning: IProgress not found. Please update jupyter and ipywidgets. See https://ipywidgets.readthedocs.io/en/stable/user_install.html\n",
      "  from .autonotebook import tqdm as notebook_tqdm\n"
     ]
    }
   ],
   "source": [
    "from tqdm.auto import tqdm"
   ]
  },
  {
   "cell_type": "code",
   "execution_count": 33,
   "metadata": {},
   "outputs": [
    {
     "name": "stderr",
     "output_type": "stream",
     "text": [
      "  0%|          | 0/1075 [00:00<?, ?it/s]"
     ]
    },
    {
     "name": "stderr",
     "output_type": "stream",
     "text": [
      "100%|██████████| 1075/1075 [01:36<00:00, 11.18it/s]\n"
     ]
    },
    {
     "data": {
      "text/plain": [
       "{'hit_rate': 0.7730232558139535, 'mrr': 0.5328062015503875}"
      ]
     },
     "execution_count": 33,
     "metadata": {},
     "output_type": "execute_result"
    }
   ],
   "source": [
    "evaluate(ground_truth, lambda q: minsearch_search(q['question']))"
   ]
  },
  {
   "cell_type": "markdown",
   "metadata": {},
   "source": [
    "### Finding the best parameters"
   ]
  },
  {
   "cell_type": "code",
   "execution_count": 34,
   "metadata": {},
   "outputs": [],
   "source": [
    "df_validation = df_question[:100]\n",
    "df_test = df_question[100:]"
   ]
  },
  {
   "cell_type": "code",
   "execution_count": 35,
   "metadata": {},
   "outputs": [],
   "source": [
    "import random\n",
    "\n",
    "def simple_optimize(param_ranges, objective_function, n_iterations=10):\n",
    "    best_params = None\n",
    "    best_score = float('-inf')  # Assuming we're minimizing. Use float('-inf') if maximizing.\n",
    "\n",
    "    for _ in range(n_iterations):\n",
    "        # Generate random parameters\n",
    "        current_params = {}\n",
    "        for param, (min_val, max_val) in param_ranges.items():\n",
    "            if isinstance(min_val, int) and isinstance(max_val, int):\n",
    "                current_params[param] = random.randint(min_val, max_val)\n",
    "            else:\n",
    "                current_params[param] = random.uniform(min_val, max_val)\n",
    "        \n",
    "        # Evaluate the objective function\n",
    "        current_score = objective_function(current_params)\n",
    "        \n",
    "        # Update best if current is better\n",
    "        if current_score > best_score:  # Change to > if maximizing\n",
    "            best_score = current_score\n",
    "            best_params = current_params\n",
    "    \n",
    "    return best_params, best_score"
   ]
  },
  {
   "cell_type": "code",
   "execution_count": 36,
   "metadata": {},
   "outputs": [],
   "source": [
    "gt_val = df_validation.to_dict(orient='records')\n"
   ]
  },
  {
   "cell_type": "code",
   "execution_count": 37,
   "metadata": {},
   "outputs": [],
   "source": [
    "def minsearch_search(query, boost=None):\n",
    "    if boost is None:\n",
    "        boost = {}\n",
    "\n",
    "    results = index.search(\n",
    "        query=query,\n",
    "        filter_dict={},\n",
    "        boost_dict=boost,\n",
    "        num_results=10\n",
    "    )\n",
    "\n",
    "    return results\n"
   ]
  },
  {
   "cell_type": "code",
   "execution_count": 38,
   "metadata": {},
   "outputs": [],
   "source": [
    "param_ranges = {\n",
    "   'destination': (0.0, 3.0), 'user_review': (0.0, 3.0), 'travel_tip': (0.0, 3.0), 'best_time_to_visit': (0.0, 3.0), 'local_cuisine_highlights': (0.0, 3.0), 'location_coordinates': (0.0, 3.0), 'popular_attractions': (0.0, 3.0), 'transportation_options': (0.0, 3.0), 'language_spoken': (0.0, 3.0), 'activities_available': (0.0, 3.0), 'cultural_highlights': (0.0, 3.0)}\n",
    "def objective(boost_params):\n",
    "    def search_function(q):\n",
    "        return minsearch_search(q['question'], boost_params)\n",
    "\n",
    "    results = evaluate(gt_val, search_function)\n",
    "    return results['mrr']"
   ]
  },
  {
   "cell_type": "code",
   "execution_count": 39,
   "metadata": {},
   "outputs": [
    {
     "name": "stderr",
     "output_type": "stream",
     "text": [
      "100%|██████████| 100/100 [00:06<00:00, 14.67it/s]\n",
      "100%|██████████| 100/100 [00:06<00:00, 15.75it/s]\n",
      "100%|██████████| 100/100 [00:06<00:00, 16.15it/s]\n",
      "100%|██████████| 100/100 [00:06<00:00, 15.55it/s]\n",
      "100%|██████████| 100/100 [00:06<00:00, 15.66it/s]\n",
      "100%|██████████| 100/100 [00:06<00:00, 15.77it/s]\n",
      "100%|██████████| 100/100 [00:06<00:00, 15.16it/s]\n",
      "100%|██████████| 100/100 [00:06<00:00, 16.21it/s]\n",
      "100%|██████████| 100/100 [00:06<00:00, 15.71it/s]\n",
      "100%|██████████| 100/100 [00:06<00:00, 15.49it/s]\n",
      "100%|██████████| 100/100 [00:06<00:00, 15.67it/s]\n",
      "100%|██████████| 100/100 [00:06<00:00, 15.88it/s]\n",
      "100%|██████████| 100/100 [00:06<00:00, 15.54it/s]\n",
      "100%|██████████| 100/100 [00:06<00:00, 16.11it/s]\n",
      "100%|██████████| 100/100 [00:06<00:00, 15.74it/s]\n",
      "100%|██████████| 100/100 [00:06<00:00, 15.48it/s]\n",
      "100%|██████████| 100/100 [00:06<00:00, 16.06it/s]\n",
      "100%|██████████| 100/100 [00:06<00:00, 15.73it/s]\n",
      "100%|██████████| 100/100 [00:06<00:00, 15.44it/s]\n",
      "100%|██████████| 100/100 [00:06<00:00, 15.48it/s]\n"
     ]
    },
    {
     "data": {
      "text/plain": [
       "({'destination': 2.485673359952678,\n",
       "  'user_review': 2.9196237991381584,\n",
       "  'travel_tip': 1.9014614654735604,\n",
       "  'best_time_to_visit': 0.2946106215502525,\n",
       "  'local_cuisine_highlights': 1.6224280634698078,\n",
       "  'location_coordinates': 0.7452008126129724,\n",
       "  'popular_attractions': 2.5540130530716985,\n",
       "  'transportation_options': 1.4757377423401572,\n",
       "  'language_spoken': 0.05435765500930245,\n",
       "  'activities_available': 1.210048239340701,\n",
       "  'cultural_highlights': 2.886085497384669},\n",
       " 0.580511904761905)"
      ]
     },
     "execution_count": 39,
     "metadata": {},
     "output_type": "execute_result"
    }
   ],
   "source": [
    "simple_optimize(param_ranges, objective, n_iterations=20)"
   ]
  },
  {
   "cell_type": "code",
   "execution_count": 40,
   "metadata": {},
   "outputs": [
    {
     "name": "stderr",
     "output_type": "stream",
     "text": [
      "100%|██████████| 1075/1075 [01:12<00:00, 14.74it/s]\n"
     ]
    },
    {
     "data": {
      "text/plain": [
       "{'hit_rate': 0.8455813953488373, 'mrr': 0.5796936138796608}"
      ]
     },
     "execution_count": 40,
     "metadata": {},
     "output_type": "execute_result"
    }
   ],
   "source": [
    "def minsearch_improved(query):\n",
    "    boost = {'destination': 2.485673359952678,\n",
    "  'user_review': 2.9196237991381584,\n",
    "  'travel_tip': 1.9014614654735604,\n",
    "  'best_time_to_visit': 0.2946106215502525,\n",
    "  'local_cuisine_highlights': 1.6224280634698078,\n",
    "  'location_coordinates': 0.7452008126129724,\n",
    "  'popular_attractions': 2.5540130530716985,\n",
    "  'transportation_options': 1.4757377423401572,\n",
    "  'language_spoken': 0.05435765500930245,\n",
    "  'activities_available': 1.210048239340701,\n",
    "  'cultural_highlights': 2.886085497384669}\n",
    "    results = index.search(\n",
    "        query=query,\n",
    "        filter_dict={},\n",
    "        boost_dict=boost,\n",
    "        num_results=10\n",
    "    )\n",
    "\n",
    "    return results\n",
    "\n",
    "evaluate(ground_truth, lambda q: minsearch_improved(q['question']))"
   ]
  },
  {
   "cell_type": "markdown",
   "metadata": {},
   "source": [
    "RAG evaluation"
   ]
  },
  {
   "cell_type": "code",
   "execution_count": 41,
   "metadata": {},
   "outputs": [],
   "source": [
    "prompt2_template = \"\"\"\n",
    "You are an expert evaluator for a RAG system.\n",
    "Your task is to analyze the relevance of the generated answer to the given question.\n",
    "Based on the relevance of the generated answer, you will classify it\n",
    "as \"NON_RELEVANT\", \"PARTLY_RELEVANT\", or \"RELEVANT\".\n",
    "\n",
    "Here is the data for evaluation:\n",
    "\n",
    "Question: {question}\n",
    "Generated Answer: {answer_llm}\n",
    "\n",
    "Please analyze the content and context of the generated answer in relation to the question\n",
    "and provide your evaluation in parsable JSON without using code blocks:\n",
    "\n",
    "{{\n",
    "  \"Relevance\": \"NON_RELEVANT\" | \"PARTLY_RELEVANT\" | \"RELEVANT\",\n",
    "  \"Explanation\": \"[Provide a brief explanation for your evaluation]\"\n",
    "}}\n",
    "\"\"\".strip()\n"
   ]
  },
  {
   "cell_type": "code",
   "execution_count": 42,
   "metadata": {},
   "outputs": [
    {
     "data": {
      "text/plain": [
       "1075"
      ]
     },
     "execution_count": 42,
     "metadata": {},
     "output_type": "execute_result"
    }
   ],
   "source": [
    "len(ground_truth)"
   ]
  },
  {
   "cell_type": "code",
   "execution_count": 43,
   "metadata": {},
   "outputs": [],
   "source": [
    "record = ground_truth[0]"
   ]
  },
  {
   "cell_type": "code",
   "execution_count": 44,
   "metadata": {},
   "outputs": [
    {
     "ename": "NameError",
     "evalue": "name 'answer_llm' is not defined",
     "output_type": "error",
     "traceback": [
      "\u001b[0;31m---------------------------------------------------------------------------\u001b[0m",
      "\u001b[0;31mNameError\u001b[0m                                 Traceback (most recent call last)",
      "Cell \u001b[0;32mIn[44], line 1\u001b[0m\n\u001b[0;32m----> 1\u001b[0m prompt \u001b[38;5;241m=\u001b[39m prompt2_template\u001b[38;5;241m.\u001b[39mformat(question\u001b[38;5;241m=\u001b[39mquestion, answer_llm\u001b[38;5;241m=\u001b[39m\u001b[43manswer_llm\u001b[49m)\n\u001b[1;32m      2\u001b[0m \u001b[38;5;28mprint\u001b[39m(prompt)\n",
      "\u001b[0;31mNameError\u001b[0m: name 'answer_llm' is not defined"
     ]
    }
   ],
   "source": [
    "prompt = prompt2_template.format(question=question, answer_llm=answer_llm)\n",
    "print(prompt)"
   ]
  },
  {
   "cell_type": "code",
   "execution_count": 45,
   "metadata": {},
   "outputs": [],
   "source": [
    "import json\n"
   ]
  },
  {
   "cell_type": "code",
   "execution_count": 46,
   "metadata": {},
   "outputs": [],
   "source": [
    "df_sample = df_question.sample(n=200, random_state=1)"
   ]
  },
  {
   "cell_type": "code",
   "execution_count": 47,
   "metadata": {},
   "outputs": [],
   "source": [
    "sample = df_sample.to_dict(orient='records')"
   ]
  },
  {
   "cell_type": "code",
   "execution_count": 157,
   "metadata": {},
   "outputs": [
    {
     "data": {
      "text/plain": [
       "[{'id': 198,\n",
       "  'question': 'What kind of attractions can I typically find in or near Stone Town?'},\n",
       " {'id': 137,\n",
       "  'question': 'What are some of the top attractions to visit in Tbilisi for historical and cultural significance?'},\n",
       " {'id': 184,\n",
       "  'question': 'What are the other official language spoken in Auckland besides English?'},\n",
       " {'id': 44,\n",
       "  'question': 'What is the most recommended time to visit to make the most out of the trip to Naples?'},\n",
       " {'id': 213,\n",
       "  'question': 'What are some must-visit places to see when I travel to Athens, Greece?'},\n",
       " {'id': 213,\n",
       "  'question': 'What options do I have for getting around Athens, especially from one popular attraction to another?'},\n",
       " {'id': 41,\n",
       "  'question': 'What are the most ideal months to plan a trip to Casablanca?'},\n",
       " {'id': 195,\n",
       "  'question': 'Can you please suggest some local dishes to try when I visit Accra, Ghana?'},\n",
       " {'id': 144,\n",
       "  'question': 'What are some types of guided tour options available in Algiers?'},\n",
       " {'id': 188,\n",
       "  'question': 'What kind of cultural experiences can I expect in Wellington in terms of art and scenic views, and what activities can I take part in to explore these aspects?'},\n",
       " {'id': 141,\n",
       "  'question': 'Can you recommend any popular historical sites in the city of Lisbon?'},\n",
       " {'id': 98,\n",
       "  'question': \"I'm an art enthusiast, what are some must-visit attractions to explore in Doha, Qatar?\"},\n",
       " {'id': 22,\n",
       "  'question': 'What local Russian dishes should I try during my visit to Moscow?'},\n",
       " {'id': 198,\n",
       "  'question': 'Are there any local food specialties that I should try while visiting Zanzibar?'},\n",
       " {'id': 19,\n",
       "  'question': 'What are some must-try dishes when visiting Buenos Aires?'},\n",
       " {'id': 117,\n",
       "  'question': 'What time of year is recommended to visit Mumbai for favorable weather?'},\n",
       " {'id': 111,\n",
       "  'question': 'What time of year would you recommend visiting Stockholm for the best experience?'},\n",
       " {'id': 27,\n",
       "  'question': 'What type of activities can I participate in while visiting Johannesburg?'},\n",
       " {'id': 99,\n",
       "  'question': 'What are some cultural activities available to experience in Ankara?'},\n",
       " {'id': 179,\n",
       "  'question': \"What activities can I participate in to learn more about the city's cultural heritage?\"},\n",
       " {'id': 80,\n",
       "  'question': 'What is one place in Lagos, Nigeria that was positively reviewed by a user and what did they like about it?'},\n",
       " {'id': 9,\n",
       "  'question': 'What time of the year is best suited for visiting Bangkok in terms of weather and other conditions?'},\n",
       " {'id': 19,\n",
       "  'question': 'What time of the year is ideal for visiting Buenos Aires?'},\n",
       " {'id': 191,\n",
       "  'question': 'What languages can I expect to hear spoken in Copenhagen, and will English be widely understood?'},\n",
       " {'id': 113,\n",
       "  'question': 'Are there historical guided tours available during early mornings in Prague?'},\n",
       " {'id': 10,\n",
       "  'question': 'I want to explore Rio without getting lost, what transportation options are recommended for tourists?'},\n",
       " {'id': 177,\n",
       "  'question': 'Can you tell me some famous attractions I should visit during my trip to Accra?'},\n",
       " {'id': 32,\n",
       "  'question': \"Is there a specific traditional local dish I should try while I'm in Shanghai?\"},\n",
       " {'id': 112,\n",
       "  'question': 'Are there any specific shopping or scenic spots near popular attractions that I should be aware of?'},\n",
       " {'id': 129,\n",
       "  'question': \"I'm planning to visit Auckland and I'm interested in trying adventure sports. What time of the year would be best to visit?\"},\n",
       " {'id': 37,\n",
       "  'question': 'What is the mode of public transportation that one can commonly use to get around Manila?'},\n",
       " {'id': 196,\n",
       "  'question': 'What are the names of some beaches in Nassau, Bahamas that are known for being stunning and relaxing?'},\n",
       " {'id': 39,\n",
       "  'question': \"What makes Moscow's art scene so unique and worth exploring?\"},\n",
       " {'id': 173,\n",
       "  'question': 'What types of activities can I participate in while visiting Harare?'},\n",
       " {'id': 38,\n",
       "  'question': 'I am traveling to Bali in March, should I consider rescheduling my trip to experience the best weather?'},\n",
       " {'id': 17,\n",
       "  'question': 'What are the local specialties I should try when I visit Seoul?'},\n",
       " {'id': 42,\n",
       "  'question': 'What kind of transportation options will I have in Abu Dhabi?'},\n",
       " {'id': 16,\n",
       "  'question': 'Is there any local public transportation available for tourists in Bangalore?'},\n",
       " {'id': 92,\n",
       "  'question': 'What types of public transportation are available to get me around the city?'},\n",
       " {'id': 113,\n",
       "  'question': 'Can I take a romantic walk on Charles Bridge without bumping into the crowds?'},\n",
       " {'id': 13,\n",
       "  'question': 'What time of the year is best suited for visiting Madrid, Spain?'},\n",
       " {'id': 102,\n",
       "  'question': 'Are the locals in Quebec City able to communicate in English?'},\n",
       " {'id': 215,\n",
       "  'question': \"I'm visiting doha in May, what tip can you provide for this time?\"},\n",
       " {'id': 6,\n",
       "  'question': 'Is surfing available as an activity option throughout the year in Sydney?'},\n",
       " {'id': 17,\n",
       "  'question': 'What is the recommended duration for visiting Gyeongbokgung Palace in Seoul?'},\n",
       " {'id': 10,\n",
       "  'question': 'What language do locals speak in Rio de Janeiro, should I learn some key phrases before my trip?'},\n",
       " {'id': 154,\n",
       "  'question': 'What are the local foods that I should try when I am in Vancouver?'},\n",
       " {'id': 26, 'question': \"How can I get around the city while I'm visiting?\"},\n",
       " {'id': 42,\n",
       "  'question': 'What are the local specialties I should try when visiting Abu Dhabi?'},\n",
       " {'id': 192,\n",
       "  'question': 'What kind of local cuisine should I expect to find when I travel to Cartagena?'},\n",
       " {'id': 97, 'question': 'What is the best way to explore Valletta in Malta?'},\n",
       " {'id': 109,\n",
       "  'question': 'Can you recommend any must-try dishes at local eateries in Dhaka?'},\n",
       " {'id': 111,\n",
       "  'question': \"What are some popular dishes I should try while I'm in Stockholm?\"},\n",
       " {'id': 152,\n",
       "  'question': \"What are some popular food items that reflect Helsinki's local cuisine?\"},\n",
       " {'id': 107,\n",
       "  'question': 'What languages can I expect locals to speak when communicating with them in Riga?'},\n",
       " {'id': 61,\n",
       "  'question': 'What forms of public transportation can I use to get around the city of Chennai during my visit?'},\n",
       " {'id': 83,\n",
       "  'question': \"What is the best time to plan a trip to Berlin to explore the city's attractions?\"},\n",
       " {'id': 162,\n",
       "  'question': \"I'm particularly excited about trying local dishes, are sushi and ramen must-try foods around there?\"},\n",
       " {'id': 82,\n",
       "  'question': 'What languages are spoken by the locals in Vancouver?'},\n",
       " {'id': 70,\n",
       "  'question': 'Are there any historical sports gatherings I could attend, or are they mostly tours or exhibitions?'},\n",
       " {'id': 90,\n",
       "  'question': \"What type of local food should I try when I'm in Ankara?\"},\n",
       " {'id': 135,\n",
       "  'question': 'Are there any specific activities that I can participate in along the Nile River?'},\n",
       " {'id': 50,\n",
       "  'question': 'What is the best time of the year to plan a visit to Abidjan?'},\n",
       " {'id': 54,\n",
       "  'question': 'What is the best time of the year for visiting Tunis, Tunisia if I want to avoid extreme temperatures?'},\n",
       " {'id': 198,\n",
       "  'question': 'Can I easily communicate in English while visiting Zanzibar?'},\n",
       " {'id': 187,\n",
       "  'question': 'What types of cultural activities can I expect to participate in when I visit Jaipur, India?'},\n",
       " {'id': 21,\n",
       "  'question': 'What are some of the must-try dishes when visiting Prague?'},\n",
       " {'id': 138,\n",
       "  'question': 'What are the geographical coordinates of Sucre, Bolivia?'},\n",
       " {'id': 166,\n",
       "  'question': 'What are the options for getting around Yangon besides walking?'},\n",
       " {'id': 7,\n",
       "  'question': 'Are there any recommended activities I need to try during my stay in Barcelona?'},\n",
       " {'id': 41,\n",
       "  'question': 'What are some of the top attractions I can visit in Casablanca?'},\n",
       " {'id': 8,\n",
       "  'question': 'What time of day is recommended to visit popular attractions in Istanbul for a more peaceful experience?'},\n",
       " {'id': 164,\n",
       "  'question': 'What are some must-see attractions I should prioritize during my visit to Stockholm?'},\n",
       " {'id': 84,\n",
       "  'question': 'Are there good transportation options available once I reach Reykjavik?'},\n",
       " {'id': 150,\n",
       "  'question': 'What are the top two must-see attractions in Siem Reap, Cambodia based on popular reviews?'},\n",
       " {'id': 164,\n",
       "  'question': 'What are some iconic dishes I need to try while visiting Stockholm?'},\n",
       " {'id': 161, 'question': 'What time of the year is best to visit la paz?'},\n",
       " {'id': 87,\n",
       "  'question': 'Could you please provide me with information on the types of public transportation available in Kirov?'},\n",
       " {'id': 24,\n",
       "  'question': 'What type of attractions can I expect to see on Waiheke Island near Auckland city?'},\n",
       " {'id': 189,\n",
       "  'question': 'What are the best months to visit this city in South Korea?'},\n",
       " {'id': 129,\n",
       "  'question': 'What are some local dishes I should try during my visit to Auckland, New Zealand?'},\n",
       " {'id': 153,\n",
       "  'question': 'What are some popular local dishes that I should try when I visit Kinshasa?'},\n",
       " {'id': 46,\n",
       "  'question': 'What is the most recommended thermal bath for a unique experience in Budapest?'},\n",
       " {'id': 20,\n",
       "  'question': 'What are some popular attractions near the city center of Lisbon?'},\n",
       " {'id': 93,\n",
       "  'question': 'What is the primary language spoken by locals in Helsinki?'},\n",
       " {'id': 87,\n",
       "  'question': 'What are some of the natural attractions and scenic spots that I can explore in the Kirov region?'},\n",
       " {'id': 36,\n",
       "  'question': 'What are the top recommended dishes to try when visiting Reykjavik, Iceland?'},\n",
       " {'id': 164,\n",
       "  'question': 'Which time of the year is best to visit Stockholm to enjoy its stunning natural scenery?'},\n",
       " {'id': 204,\n",
       "  'question': 'What months of the year are considered the best time to visit Nairobi?'},\n",
       " {'id': 71,\n",
       "  'question': 'What cultural aspects can a visitor look forward to exploring while in Prague?'},\n",
       " {'id': 110,\n",
       "  'question': 'What kinds of local dishes should I definitely try during my trip to Lagos, Nigeria?'},\n",
       " {'id': 106,\n",
       "  'question': 'What transportation options do I have available to travel within Hamilton?'},\n",
       " {'id': 205,\n",
       "  'question': 'When is the best time to visit Lima to get the most out of my trip?'},\n",
       " {'id': 18,\n",
       "  'question': 'What are some popular things to see and do while visiting Amsterdam?'},\n",
       " {'id': 14,\n",
       "  'question': 'What are the best months to visit Singapore for favorable weather?'},\n",
       " {'id': 49,\n",
       "  'question': 'What are some recommended activities available for beach lovers like me in the Dar Es Salaam area?'},\n",
       " {'id': 69,\n",
       "  'question': 'What are some must-try dishes that can be found in the local cuisine of Athens?'},\n",
       " {'id': 210,\n",
       "  'question': 'What types of public transportation are available to get around Harare?'},\n",
       " {'id': 145,\n",
       "  'question': \"What are some attractions that I should consider visiting when in Zimbabwe's capital city?\"},\n",
       " {'id': 89,\n",
       "  'question': 'What types of food are typically served in the local cuisine of the city of Lima, Peru?'},\n",
       " {'id': 172,\n",
       "  'question': 'Can you recommend any cultural activities to participate in?'},\n",
       " {'id': 55,\n",
       "  'question': 'What local organizations or attractions in this destination are committed to wildlife conservation and how can tourists get involved?'},\n",
       " {'id': 2,\n",
       "  'question': 'Can you recommend the best months of the year to travel to my destination?'},\n",
       " {'id': 194,\n",
       "  'question': 'What months of the year are best for visiting Split to enjoy the beach?'},\n",
       " {'id': 34,\n",
       "  'question': 'What is the best method to fully appreciate the historic center in Quito?'},\n",
       " {'id': 187,\n",
       "  'question': 'What are the popular palaces and historical sites that I can expect to visit in Jaipur?'},\n",
       " {'id': 209,\n",
       "  'question': 'What local dish containing fava beans should I not miss trying in Khartoum?'},\n",
       " {'id': 156,\n",
       "  'question': 'What are some of the unique South African dishes I should try when visiting Cape Town?'},\n",
       " {'id': 152,\n",
       "  'question': 'What types of activities are available for tourists to enjoy in Helsinki?'},\n",
       " {'id': 162,\n",
       "  'question': 'What time of year can I witness the famous cherry blossom season in my desired destination?'},\n",
       " {'id': 30,\n",
       "  'question': 'What are the top recommendations for must-see places in Oslo?'},\n",
       " {'id': 62,\n",
       "  'question': 'What are the recommended months to visit Zanzibar for ideal weather conditions?'},\n",
       " {'id': 210,\n",
       "  'question': 'What time of year should I plan my trip to Harare to have the best experience?'},\n",
       " {'id': 53,\n",
       "  'question': 'What kinds of tours can I go on to learn more about the city and its culture?'},\n",
       " {'id': 132,\n",
       "  'question': 'What are the popular transportation options in Dhaka, Bangladesh?'},\n",
       " {'id': 49,\n",
       "  'question': 'Can you tell me about some of the traditional Tanzanian dishes that I can try in Dar Es Salaam?'},\n",
       " {'id': 25,\n",
       "  'question': 'What is the most ideal period to visit Honolulu to avoid the crowds?'},\n",
       " {'id': 86,\n",
       "  'question': 'What are the local must-try dishes that I should look out for in Casablanca?'},\n",
       " {'id': 123,\n",
       "  'question': 'What are the must-see places for outdoor activities and cultural exploration in Bogota?'},\n",
       " {'id': 117,\n",
       "  'question': 'What are some local Mumbai street foods that I should try during my visit?'},\n",
       " {'id': 139,\n",
       "  'question': 'What is the weather like during the best time to visit Batumi?'},\n",
       " {'id': 205,\n",
       "  'question': 'What are some highly recommended local dishes I should try while in Lima?'},\n",
       " {'id': 40,\n",
       "  'question': 'What is the best way to get a deeper understanding of the pyramids and historical sites in Cairo?'},\n",
       " {'id': 41,\n",
       "  'question': 'What is the best way for me to get around the city of Casablanca?'},\n",
       " {'id': 21,\n",
       "  'question': 'What are some popular events or activities that can be enjoyed on the rivers of Prague?'},\n",
       " {'id': 28,\n",
       "  'question': 'What are some popular attractions to visit in Copenhagen, Denmark?'},\n",
       " {'id': 189,\n",
       "  'question': \"What is the name of the palace that is one of the city's most popular tourist attractions?\"},\n",
       " {'id': 31,\n",
       "  'question': 'What languages are predominantly spoken in Dubai and are there any cultural events not to be missed?'},\n",
       " {'id': 206,\n",
       "  'question': 'What are the local specialties for street food or snacks?'},\n",
       " {'id': 147,\n",
       "  'question': \"What foods should I try when I'm in the city for a taste of local cuisine?\"},\n",
       " {'id': 149,\n",
       "  'question': 'Is there a specific month range recommended for traveling to Nairobi?'},\n",
       " {'id': 120,\n",
       "  'question': \"I heard that there's a famous market in the city, can you recommend a specific market to visit for local crafts and shopping?\"},\n",
       " {'id': 41,\n",
       "  'question': 'What are some of the cultural highlights that I can experience in Casablanca?'},\n",
       " {'id': 147,\n",
       "  'question': \"What kind of events and tours can I participate in when I'm in the city?\"},\n",
       " {'id': 111,\n",
       "  'question': 'How do I get around the city, and are there any options available for water travel?'},\n",
       " {'id': 150,\n",
       "  'question': 'Are there any specific months in the year that are considered the best time to plan a visit to Siem Reap?'},\n",
       " {'id': 109,\n",
       "  'question': 'What are some popular attractions to visit while exploring Dhaka?'},\n",
       " {'id': 63,\n",
       "  'question': 'What are the exact geographical coordinates for Bermuda that I can enter into my GPS?'},\n",
       " {'id': 39,\n",
       "  'question': 'Which time of the year is ideal to plan a trip to Moscow, Russia?'},\n",
       " {'id': 160,\n",
       "  'question': \"I'm planning a trip to Tunis and I want to make the most of it. When is the best time to visit this destination, considering factors that influence travel such as weather?\"},\n",
       " {'id': 79,\n",
       "  'question': 'What local dishes should I try to experience the authentic taste of the area?'},\n",
       " {'id': 151,\n",
       "  'question': 'What type of activities can I expect to be available when I visit Ankara, Turkey?'},\n",
       " {'id': 105,\n",
       "  'question': 'What are the most famous traditional dishes in Tbilisi, Georgia?'},\n",
       " {'id': 32,\n",
       "  'question': 'Can I get by with only speaking English during my trip?'},\n",
       " {'id': 178,\n",
       "  'question': 'What are the most popular outdoor activities that I can do in Vladivostok, Russia?'},\n",
       " {'id': 168,\n",
       "  'question': \"I'm interested in exploring the local culture. Are there any specific months that are ideal for visiting Lima?\"},\n",
       " {'id': 203,\n",
       "  'question': 'What local dishes should I try while visiting Luanda?'},\n",
       " {'id': 175,\n",
       "  'question': 'How do people typically get around the city - what are the most popular transportation options available?'},\n",
       " {'id': 130,\n",
       "  'question': 'What types of transportation services are available to get around the city?'},\n",
       " {'id': 157,\n",
       "  'question': 'What are the names of some types of food that I should look to try during my trip?'},\n",
       " {'id': 161,\n",
       "  'question': 'How do I acclimatize to high altitude when visiting la paz?'},\n",
       " {'id': 4,\n",
       "  'question': 'What local Italian dishes should I try when visiting Rome, Italy?'},\n",
       " {'id': 4,\n",
       "  'question': 'What options do I have for getting around Rome, Italy during my trip?'},\n",
       " {'id': 87,\n",
       "  'question': 'What is the best season to visit Kirov for outdoor activities?'},\n",
       " {'id': 167,\n",
       "  'question': 'How do I get around the city using public transportation in Malmo, Sweden?'},\n",
       " {'id': 44,\n",
       "  'question': 'What are some of the top must-try dishes when visiting Naples?'},\n",
       " {'id': 189,\n",
       "  'question': 'What type of transportation options are commonly used to get around this city?'},\n",
       " {'id': 159,\n",
       "  'question': 'Do I need to speak English to navigate Brasilia, or is another language more commonly used?'},\n",
       " {'id': 211,\n",
       "  'question': 'What type of tours are available for tourists who want to experience the culture of Buenos Aires, Argentina?'},\n",
       " {'id': 165,\n",
       "  'question': 'What time of year is best to visit Tbilisi if I want to avoid extreme weather?'},\n",
       " {'id': 170,\n",
       "  'question': 'What festivals can I attend during my visit from October to March?'},\n",
       " {'id': 153,\n",
       "  'question': 'What are some of the must-visit places to explore the arts and culture scene in Kinshasa?'},\n",
       " {'id': 142,\n",
       "  'question': 'What types of guided excursions can tourists participate in while in Maseru?'},\n",
       " {'id': 95,\n",
       "  'question': \"What are some unique aspects of Hanoi's culture that I should be aware of before my trip?\"},\n",
       " {'id': 57,\n",
       "  'question': \"What local Colombian dishes should I try while I'm in Cartagena?\"},\n",
       " {'id': 37,\n",
       "  'question': 'What time of the year would be ideal to visit Manila in terms of weather?'},\n",
       " {'id': 52,\n",
       "  'question': 'What are some popular places I should visit when I travel to La Paz, Bolivia?'},\n",
       " {'id': 70,\n",
       "  'question': 'What are some of the main local food dishes to try in Boston for an authentic dining experience?'},\n",
       " {'id': 155,\n",
       "  'question': 'What mode of transportation should I take to move around the city?'},\n",
       " {'id': 49,\n",
       "  'question': 'Which popular transportation options can I use to get around the city of Dar Es Salaam?'},\n",
       " {'id': 78,\n",
       "  'question': 'What are the most popular transportation options in Manila?'},\n",
       " {'id': 88, 'question': 'What are some popular things to do in Marrakech?'},\n",
       " {'id': 131,\n",
       "  'question': 'What is the significance of the confluence of two rivers in the area?'},\n",
       " {'id': 166,\n",
       "  'question': 'What months of the year would be the best time to plan my trip to Yangon, Myanmar?'},\n",
       " {'id': 140,\n",
       "  'question': 'What local dishes should I try when visiting Accra?'},\n",
       " {'id': 12,\n",
       "  'question': \"What unique experiences or activities are available to explore Berlin's culture?\"},\n",
       " {'id': 3,\n",
       "  'question': 'Are there any must-try foods or desserts that are native to the local cuisine?'},\n",
       " {'id': 158,\n",
       "  'question': 'What are some popular attractions to visit in Honolulu?'},\n",
       " {'id': 154,\n",
       "  'question': 'How can I get around the city, what are my transportation options in Vancouver?'},\n",
       " {'id': 130,\n",
       "  'question': 'What are some popular sites and attractions that I should visit during my trip to Havana?'},\n",
       " {'id': 136,\n",
       "  'question': \"What types of dishes should I try when I'm trying the local cuisine of Windhoek?\"},\n",
       " {'id': 100,\n",
       "  'question': 'What are some must-visit attractions to explore in Qaqortoq?'},\n",
       " {'id': 152,\n",
       "  'question': 'What languages can I expect to hear locals speaking in Helsinki?'},\n",
       " {'id': 19,\n",
       "  'question': 'Can you recommend some popular places to visit in Buenos Aires?'},\n",
       " {'id': 48,\n",
       "  'question': 'Are there any historic sites near the location coordinates 29.3759° N, 47.9774° E that are famous for their sunset views?'},\n",
       " {'id': 69,\n",
       "  'question': 'What is the best time of year to visit Athens in terms of the weather?'},\n",
       " {'id': 200,\n",
       "  'question': 'In what months does Fortaleza have the most vibrant nightlife?'},\n",
       " {'id': 180,\n",
       "  'question': 'What are the top recommended activities to participate in for a memorable experience in Tbilisi?'},\n",
       " {'id': 133,\n",
       "  'question': 'What kind of meals can I expect to find in Nassau, and are there any local specialties?'},\n",
       " {'id': 148,\n",
       "  'question': 'What are some local dishes I should try when I visit Asunción?'},\n",
       " {'id': 68,\n",
       "  'question': 'What are some unique experiences I can have during my trip to Nairobi?'},\n",
       " {'id': 121,\n",
       "  'question': 'What are some of the unique natural features or landmarks that I should not miss when visiting Cape Town?'},\n",
       " {'id': 180,\n",
       "  'question': 'What are some popular cultural highlights and traditions I should know about before visiting the city?'},\n",
       " {'id': 1,\n",
       "  'question': 'What are some sweet and delicious treats that I should try when visiting Paris?'},\n",
       " {'id': 159,\n",
       "  'question': 'What are some local dishes that I should definitely try when visiting Brasilia?'},\n",
       " {'id': 74,\n",
       "  'question': 'Can I get by without speaking the local language of Māori during my trip to Auckland?'},\n",
       " {'id': 84,\n",
       "  'question': 'What are some of the local Icelandic dishes I should try while visiting Reykjavik?'},\n",
       " {'id': 159,\n",
       "  'question': 'What are the months during which Brasilia has the best weather for visiting?'},\n",
       " {'id': 13,\n",
       "  'question': \"What are some of the most famous museums in Madrid that I shouldn't miss?\"},\n",
       " {'id': 53,\n",
       "  'question': 'What are some common modes of transport to get around Maputo, Mozambique?'}]"
      ]
     },
     "execution_count": 157,
     "metadata": {},
     "output_type": "execute_result"
    }
   ],
   "source": [
    "sample"
   ]
  },
  {
   "cell_type": "code",
   "execution_count": 48,
   "metadata": {},
   "outputs": [
    {
     "name": "stderr",
     "output_type": "stream",
     "text": [
      "100%|██████████| 200/200 [24:26<00:00,  7.33s/it]\n"
     ]
    }
   ],
   "source": [
    "evaluations = []\n",
    "\n",
    "for record in tqdm(sample):\n",
    "    question = record['question']\n",
    "    answer_llm = rag(question) \n",
    "\n",
    "    prompt = prompt2_template.format(\n",
    "        question=question,\n",
    "        answer_llm=answer_llm\n",
    "    )\n",
    "\n",
    "    evaluation = llm(prompt)\n",
    "    # print(evaluation)\n",
    "    # evaluation = json.loads(evaluation)\n",
    "\n",
    "    evaluations.append((record, answer_llm, evaluation))"
   ]
  },
  {
   "cell_type": "code",
   "execution_count": 49,
   "metadata": {},
   "outputs": [],
   "source": [
    "df_eval = pd.DataFrame(evaluations, columns=['record', 'answer', 'evaluation'])"
   ]
  },
  {
   "cell_type": "code",
   "execution_count": 50,
   "metadata": {},
   "outputs": [],
   "source": [
    "df_eval.head()\n",
    "df_eval['id'] = df_eval.record.apply(lambda d: d['id'])\n",
    "df_eval['question'] = df_eval.record.apply(lambda d: d['question'])\n"
   ]
  },
  {
   "cell_type": "code",
   "execution_count": 51,
   "metadata": {},
   "outputs": [
    {
     "data": {
      "text/html": [
       "<div>\n",
       "<style scoped>\n",
       "    .dataframe tbody tr th:only-of-type {\n",
       "        vertical-align: middle;\n",
       "    }\n",
       "\n",
       "    .dataframe tbody tr th {\n",
       "        vertical-align: top;\n",
       "    }\n",
       "\n",
       "    .dataframe thead th {\n",
       "        text-align: right;\n",
       "    }\n",
       "</style>\n",
       "<table border=\"1\" class=\"dataframe\">\n",
       "  <thead>\n",
       "    <tr style=\"text-align: right;\">\n",
       "      <th></th>\n",
       "      <th>record</th>\n",
       "      <th>answer</th>\n",
       "      <th>evaluation</th>\n",
       "      <th>id</th>\n",
       "      <th>question</th>\n",
       "    </tr>\n",
       "  </thead>\n",
       "  <tbody>\n",
       "    <tr>\n",
       "      <th>0</th>\n",
       "      <td>{'id': 198, 'question': 'What kind of attracti...</td>\n",
       "      <td>You can typically find cultural and historical...</td>\n",
       "      <td>{\\n  \"Relevance\": \"RELEVANT\",\\n  \"Explanation\"...</td>\n",
       "      <td>198</td>\n",
       "      <td>What kind of attractions can I typically find ...</td>\n",
       "    </tr>\n",
       "    <tr>\n",
       "      <th>1</th>\n",
       "      <td>{'id': 137, 'question': 'What are some of the ...</td>\n",
       "      <td>Based on the context provided, some of the top...</td>\n",
       "      <td>{\\n  \"Relevance\": \"RELEVANT\",\\n  \"Explanation\"...</td>\n",
       "      <td>137</td>\n",
       "      <td>What are some of the top attractions to visit ...</td>\n",
       "    </tr>\n",
       "    <tr>\n",
       "      <th>2</th>\n",
       "      <td>{'id': 184, 'question': 'What are the other of...</td>\n",
       "      <td>The other official language spoken in Auckland...</td>\n",
       "      <td>{\\n  \"Relevance\": \"RELEVANT\",\\n  \"Explanation\"...</td>\n",
       "      <td>184</td>\n",
       "      <td>What are the other official language spoken in...</td>\n",
       "    </tr>\n",
       "    <tr>\n",
       "      <th>3</th>\n",
       "      <td>{'id': 44, 'question': 'What is the most recom...</td>\n",
       "      <td>The most recommended time to visit Naples and ...</td>\n",
       "      <td>{\\n  \"Relevance\": \"RELEVANT\",\\n  \"Explanation\"...</td>\n",
       "      <td>44</td>\n",
       "      <td>What is the most recommended time to visit to ...</td>\n",
       "    </tr>\n",
       "    <tr>\n",
       "      <th>4</th>\n",
       "      <td>{'id': 213, 'question': 'What are some must-vi...</td>\n",
       "      <td>Athens, Greece is a city rich in history and c...</td>\n",
       "      <td>{\\n  \"Relevance\": \"RELEVANT\",\\n  \"Explanation\"...</td>\n",
       "      <td>213</td>\n",
       "      <td>What are some must-visit places to see when I ...</td>\n",
       "    </tr>\n",
       "    <tr>\n",
       "      <th>...</th>\n",
       "      <td>...</td>\n",
       "      <td>...</td>\n",
       "      <td>...</td>\n",
       "      <td>...</td>\n",
       "      <td>...</td>\n",
       "    </tr>\n",
       "    <tr>\n",
       "      <th>195</th>\n",
       "      <td>{'id': 74, 'question': 'Can I get by without s...</td>\n",
       "      <td>You can likely get by without speaking the loc...</td>\n",
       "      <td>{\\n  \"Relevance\": \"PARTLY_RELEVANT\",\\n  \"Expla...</td>\n",
       "      <td>74</td>\n",
       "      <td>Can I get by without speaking the local langua...</td>\n",
       "    </tr>\n",
       "    <tr>\n",
       "      <th>196</th>\n",
       "      <td>{'id': 84, 'question': 'What are some of the l...</td>\n",
       "      <td>You should try the following local Icelandic d...</td>\n",
       "      <td>{\\n  \"Relevance\": \"RELEVANT\",\\n  \"Explanation\"...</td>\n",
       "      <td>84</td>\n",
       "      <td>What are some of the local Icelandic dishes I ...</td>\n",
       "    </tr>\n",
       "    <tr>\n",
       "      <th>197</th>\n",
       "      <td>{'id': 159, 'question': 'What are the months d...</td>\n",
       "      <td>Brasilia has the best weather for visiting dur...</td>\n",
       "      <td>{\\n  \"Relevance\": \"RELEVANT\",\\n  \"Explanation\"...</td>\n",
       "      <td>159</td>\n",
       "      <td>What are the months during which Brasilia has ...</td>\n",
       "    </tr>\n",
       "    <tr>\n",
       "      <th>198</th>\n",
       "      <td>{'id': 13, 'question': 'What are some of the m...</td>\n",
       "      <td>Based on the context, one of the most famous m...</td>\n",
       "      <td>{\\n  \"Relevance\": \"RELEVANT\",\\n  \"Explanation\"...</td>\n",
       "      <td>13</td>\n",
       "      <td>What are some of the most famous museums in Ma...</td>\n",
       "    </tr>\n",
       "    <tr>\n",
       "      <th>199</th>\n",
       "      <td>{'id': 53, 'question': 'What are some common m...</td>\n",
       "      <td>Based on the context, the common modes of tran...</td>\n",
       "      <td>{\\n  \"Relevance\": \"RELEVANT\",\\n  \"Explanation\"...</td>\n",
       "      <td>53</td>\n",
       "      <td>What are some common modes of transport to get...</td>\n",
       "    </tr>\n",
       "  </tbody>\n",
       "</table>\n",
       "<p>200 rows × 5 columns</p>\n",
       "</div>"
      ],
      "text/plain": [
       "                                                record  \\\n",
       "0    {'id': 198, 'question': 'What kind of attracti...   \n",
       "1    {'id': 137, 'question': 'What are some of the ...   \n",
       "2    {'id': 184, 'question': 'What are the other of...   \n",
       "3    {'id': 44, 'question': 'What is the most recom...   \n",
       "4    {'id': 213, 'question': 'What are some must-vi...   \n",
       "..                                                 ...   \n",
       "195  {'id': 74, 'question': 'Can I get by without s...   \n",
       "196  {'id': 84, 'question': 'What are some of the l...   \n",
       "197  {'id': 159, 'question': 'What are the months d...   \n",
       "198  {'id': 13, 'question': 'What are some of the m...   \n",
       "199  {'id': 53, 'question': 'What are some common m...   \n",
       "\n",
       "                                                answer  \\\n",
       "0    You can typically find cultural and historical...   \n",
       "1    Based on the context provided, some of the top...   \n",
       "2    The other official language spoken in Auckland...   \n",
       "3    The most recommended time to visit Naples and ...   \n",
       "4    Athens, Greece is a city rich in history and c...   \n",
       "..                                                 ...   \n",
       "195  You can likely get by without speaking the loc...   \n",
       "196  You should try the following local Icelandic d...   \n",
       "197  Brasilia has the best weather for visiting dur...   \n",
       "198  Based on the context, one of the most famous m...   \n",
       "199  Based on the context, the common modes of tran...   \n",
       "\n",
       "                                            evaluation   id  \\\n",
       "0    {\\n  \"Relevance\": \"RELEVANT\",\\n  \"Explanation\"...  198   \n",
       "1    {\\n  \"Relevance\": \"RELEVANT\",\\n  \"Explanation\"...  137   \n",
       "2    {\\n  \"Relevance\": \"RELEVANT\",\\n  \"Explanation\"...  184   \n",
       "3    {\\n  \"Relevance\": \"RELEVANT\",\\n  \"Explanation\"...   44   \n",
       "4    {\\n  \"Relevance\": \"RELEVANT\",\\n  \"Explanation\"...  213   \n",
       "..                                                 ...  ...   \n",
       "195  {\\n  \"Relevance\": \"PARTLY_RELEVANT\",\\n  \"Expla...   74   \n",
       "196  {\\n  \"Relevance\": \"RELEVANT\",\\n  \"Explanation\"...   84   \n",
       "197  {\\n  \"Relevance\": \"RELEVANT\",\\n  \"Explanation\"...  159   \n",
       "198  {\\n  \"Relevance\": \"RELEVANT\",\\n  \"Explanation\"...   13   \n",
       "199  {\\n  \"Relevance\": \"RELEVANT\",\\n  \"Explanation\"...   53   \n",
       "\n",
       "                                              question  \n",
       "0    What kind of attractions can I typically find ...  \n",
       "1    What are some of the top attractions to visit ...  \n",
       "2    What are the other official language spoken in...  \n",
       "3    What is the most recommended time to visit to ...  \n",
       "4    What are some must-visit places to see when I ...  \n",
       "..                                                 ...  \n",
       "195  Can I get by without speaking the local langua...  \n",
       "196  What are some of the local Icelandic dishes I ...  \n",
       "197  What are the months during which Brasilia has ...  \n",
       "198  What are some of the most famous museums in Ma...  \n",
       "199  What are some common modes of transport to get...  \n",
       "\n",
       "[200 rows x 5 columns]"
      ]
     },
     "execution_count": 51,
     "metadata": {},
     "output_type": "execute_result"
    }
   ],
   "source": [
    "df_eval"
   ]
  },
  {
   "cell_type": "code",
   "execution_count": 52,
   "metadata": {},
   "outputs": [],
   "source": [
    "# Function to parse JSON strings\n",
    "def parse_json(json_str):\n",
    "    try:\n",
    "        return json.loads(json_str)\n",
    "    except json.JSONDecodeError:\n",
    "        return None\n",
    "# "
   ]
  },
  {
   "cell_type": "code",
   "execution_count": 53,
   "metadata": {},
   "outputs": [],
   "source": [
    "# Apply the function to parse the JSON strings in the evaluation column\n",
    "df_eval['parsed_evaluation'] = df_eval['evaluation'].apply(parse_json)\n"
   ]
  },
  {
   "cell_type": "code",
   "execution_count": 54,
   "metadata": {},
   "outputs": [
    {
     "data": {
      "text/html": [
       "<div>\n",
       "<style scoped>\n",
       "    .dataframe tbody tr th:only-of-type {\n",
       "        vertical-align: middle;\n",
       "    }\n",
       "\n",
       "    .dataframe tbody tr th {\n",
       "        vertical-align: top;\n",
       "    }\n",
       "\n",
       "    .dataframe thead th {\n",
       "        text-align: right;\n",
       "    }\n",
       "</style>\n",
       "<table border=\"1\" class=\"dataframe\">\n",
       "  <thead>\n",
       "    <tr style=\"text-align: right;\">\n",
       "      <th></th>\n",
       "      <th>record</th>\n",
       "      <th>answer</th>\n",
       "      <th>evaluation</th>\n",
       "      <th>id</th>\n",
       "      <th>question</th>\n",
       "      <th>parsed_evaluation</th>\n",
       "    </tr>\n",
       "  </thead>\n",
       "  <tbody>\n",
       "    <tr>\n",
       "      <th>0</th>\n",
       "      <td>{'id': 198, 'question': 'What kind of attracti...</td>\n",
       "      <td>You can typically find cultural and historical...</td>\n",
       "      <td>{\\n  \"Relevance\": \"RELEVANT\",\\n  \"Explanation\"...</td>\n",
       "      <td>198</td>\n",
       "      <td>What kind of attractions can I typically find ...</td>\n",
       "      <td>{'Relevance': 'RELEVANT', 'Explanation': 'The ...</td>\n",
       "    </tr>\n",
       "    <tr>\n",
       "      <th>1</th>\n",
       "      <td>{'id': 137, 'question': 'What are some of the ...</td>\n",
       "      <td>Based on the context provided, some of the top...</td>\n",
       "      <td>{\\n  \"Relevance\": \"RELEVANT\",\\n  \"Explanation\"...</td>\n",
       "      <td>137</td>\n",
       "      <td>What are some of the top attractions to visit ...</td>\n",
       "      <td>{'Relevance': 'RELEVANT', 'Explanation': 'The ...</td>\n",
       "    </tr>\n",
       "    <tr>\n",
       "      <th>2</th>\n",
       "      <td>{'id': 184, 'question': 'What are the other of...</td>\n",
       "      <td>The other official language spoken in Auckland...</td>\n",
       "      <td>{\\n  \"Relevance\": \"RELEVANT\",\\n  \"Explanation\"...</td>\n",
       "      <td>184</td>\n",
       "      <td>What are the other official language spoken in...</td>\n",
       "      <td>None</td>\n",
       "    </tr>\n",
       "    <tr>\n",
       "      <th>3</th>\n",
       "      <td>{'id': 44, 'question': 'What is the most recom...</td>\n",
       "      <td>The most recommended time to visit Naples and ...</td>\n",
       "      <td>{\\n  \"Relevance\": \"RELEVANT\",\\n  \"Explanation\"...</td>\n",
       "      <td>44</td>\n",
       "      <td>What is the most recommended time to visit to ...</td>\n",
       "      <td>None</td>\n",
       "    </tr>\n",
       "    <tr>\n",
       "      <th>4</th>\n",
       "      <td>{'id': 213, 'question': 'What are some must-vi...</td>\n",
       "      <td>Athens, Greece is a city rich in history and c...</td>\n",
       "      <td>{\\n  \"Relevance\": \"RELEVANT\",\\n  \"Explanation\"...</td>\n",
       "      <td>213</td>\n",
       "      <td>What are some must-visit places to see when I ...</td>\n",
       "      <td>{'Relevance': 'RELEVANT', 'Explanation': 'The ...</td>\n",
       "    </tr>\n",
       "  </tbody>\n",
       "</table>\n",
       "</div>"
      ],
      "text/plain": [
       "                                              record  \\\n",
       "0  {'id': 198, 'question': 'What kind of attracti...   \n",
       "1  {'id': 137, 'question': 'What are some of the ...   \n",
       "2  {'id': 184, 'question': 'What are the other of...   \n",
       "3  {'id': 44, 'question': 'What is the most recom...   \n",
       "4  {'id': 213, 'question': 'What are some must-vi...   \n",
       "\n",
       "                                              answer  \\\n",
       "0  You can typically find cultural and historical...   \n",
       "1  Based on the context provided, some of the top...   \n",
       "2  The other official language spoken in Auckland...   \n",
       "3  The most recommended time to visit Naples and ...   \n",
       "4  Athens, Greece is a city rich in history and c...   \n",
       "\n",
       "                                          evaluation   id  \\\n",
       "0  {\\n  \"Relevance\": \"RELEVANT\",\\n  \"Explanation\"...  198   \n",
       "1  {\\n  \"Relevance\": \"RELEVANT\",\\n  \"Explanation\"...  137   \n",
       "2  {\\n  \"Relevance\": \"RELEVANT\",\\n  \"Explanation\"...  184   \n",
       "3  {\\n  \"Relevance\": \"RELEVANT\",\\n  \"Explanation\"...   44   \n",
       "4  {\\n  \"Relevance\": \"RELEVANT\",\\n  \"Explanation\"...  213   \n",
       "\n",
       "                                            question  \\\n",
       "0  What kind of attractions can I typically find ...   \n",
       "1  What are some of the top attractions to visit ...   \n",
       "2  What are the other official language spoken in...   \n",
       "3  What is the most recommended time to visit to ...   \n",
       "4  What are some must-visit places to see when I ...   \n",
       "\n",
       "                                   parsed_evaluation  \n",
       "0  {'Relevance': 'RELEVANT', 'Explanation': 'The ...  \n",
       "1  {'Relevance': 'RELEVANT', 'Explanation': 'The ...  \n",
       "2                                               None  \n",
       "3                                               None  \n",
       "4  {'Relevance': 'RELEVANT', 'Explanation': 'The ...  "
      ]
     },
     "execution_count": 54,
     "metadata": {},
     "output_type": "execute_result"
    }
   ],
   "source": [
    "df_eval.head()"
   ]
  },
  {
   "cell_type": "code",
   "execution_count": 55,
   "metadata": {},
   "outputs": [],
   "source": [
    "# Now you can safely access the 'Relevance' key\n",
    "df_eval['relevance'] = df_eval['parsed_evaluation'].apply(lambda d: d['Relevance'] if d else None)"
   ]
  },
  {
   "cell_type": "code",
   "execution_count": 56,
   "metadata": {},
   "outputs": [
    {
     "data": {
      "text/html": [
       "<div>\n",
       "<style scoped>\n",
       "    .dataframe tbody tr th:only-of-type {\n",
       "        vertical-align: middle;\n",
       "    }\n",
       "\n",
       "    .dataframe tbody tr th {\n",
       "        vertical-align: top;\n",
       "    }\n",
       "\n",
       "    .dataframe thead th {\n",
       "        text-align: right;\n",
       "    }\n",
       "</style>\n",
       "<table border=\"1\" class=\"dataframe\">\n",
       "  <thead>\n",
       "    <tr style=\"text-align: right;\">\n",
       "      <th></th>\n",
       "      <th>record</th>\n",
       "      <th>answer</th>\n",
       "      <th>evaluation</th>\n",
       "      <th>id</th>\n",
       "      <th>question</th>\n",
       "      <th>parsed_evaluation</th>\n",
       "      <th>relevance</th>\n",
       "    </tr>\n",
       "  </thead>\n",
       "  <tbody>\n",
       "    <tr>\n",
       "      <th>0</th>\n",
       "      <td>{'id': 198, 'question': 'What kind of attracti...</td>\n",
       "      <td>You can typically find cultural and historical...</td>\n",
       "      <td>{\\n  \"Relevance\": \"RELEVANT\",\\n  \"Explanation\"...</td>\n",
       "      <td>198</td>\n",
       "      <td>What kind of attractions can I typically find ...</td>\n",
       "      <td>{'Relevance': 'RELEVANT', 'Explanation': 'The ...</td>\n",
       "      <td>RELEVANT</td>\n",
       "    </tr>\n",
       "    <tr>\n",
       "      <th>1</th>\n",
       "      <td>{'id': 137, 'question': 'What are some of the ...</td>\n",
       "      <td>Based on the context provided, some of the top...</td>\n",
       "      <td>{\\n  \"Relevance\": \"RELEVANT\",\\n  \"Explanation\"...</td>\n",
       "      <td>137</td>\n",
       "      <td>What are some of the top attractions to visit ...</td>\n",
       "      <td>{'Relevance': 'RELEVANT', 'Explanation': 'The ...</td>\n",
       "      <td>RELEVANT</td>\n",
       "    </tr>\n",
       "    <tr>\n",
       "      <th>2</th>\n",
       "      <td>{'id': 184, 'question': 'What are the other of...</td>\n",
       "      <td>The other official language spoken in Auckland...</td>\n",
       "      <td>{\\n  \"Relevance\": \"RELEVANT\",\\n  \"Explanation\"...</td>\n",
       "      <td>184</td>\n",
       "      <td>What are the other official language spoken in...</td>\n",
       "      <td>None</td>\n",
       "      <td>None</td>\n",
       "    </tr>\n",
       "    <tr>\n",
       "      <th>3</th>\n",
       "      <td>{'id': 44, 'question': 'What is the most recom...</td>\n",
       "      <td>The most recommended time to visit Naples and ...</td>\n",
       "      <td>{\\n  \"Relevance\": \"RELEVANT\",\\n  \"Explanation\"...</td>\n",
       "      <td>44</td>\n",
       "      <td>What is the most recommended time to visit to ...</td>\n",
       "      <td>None</td>\n",
       "      <td>None</td>\n",
       "    </tr>\n",
       "    <tr>\n",
       "      <th>4</th>\n",
       "      <td>{'id': 213, 'question': 'What are some must-vi...</td>\n",
       "      <td>Athens, Greece is a city rich in history and c...</td>\n",
       "      <td>{\\n  \"Relevance\": \"RELEVANT\",\\n  \"Explanation\"...</td>\n",
       "      <td>213</td>\n",
       "      <td>What are some must-visit places to see when I ...</td>\n",
       "      <td>{'Relevance': 'RELEVANT', 'Explanation': 'The ...</td>\n",
       "      <td>RELEVANT</td>\n",
       "    </tr>\n",
       "  </tbody>\n",
       "</table>\n",
       "</div>"
      ],
      "text/plain": [
       "                                              record  \\\n",
       "0  {'id': 198, 'question': 'What kind of attracti...   \n",
       "1  {'id': 137, 'question': 'What are some of the ...   \n",
       "2  {'id': 184, 'question': 'What are the other of...   \n",
       "3  {'id': 44, 'question': 'What is the most recom...   \n",
       "4  {'id': 213, 'question': 'What are some must-vi...   \n",
       "\n",
       "                                              answer  \\\n",
       "0  You can typically find cultural and historical...   \n",
       "1  Based on the context provided, some of the top...   \n",
       "2  The other official language spoken in Auckland...   \n",
       "3  The most recommended time to visit Naples and ...   \n",
       "4  Athens, Greece is a city rich in history and c...   \n",
       "\n",
       "                                          evaluation   id  \\\n",
       "0  {\\n  \"Relevance\": \"RELEVANT\",\\n  \"Explanation\"...  198   \n",
       "1  {\\n  \"Relevance\": \"RELEVANT\",\\n  \"Explanation\"...  137   \n",
       "2  {\\n  \"Relevance\": \"RELEVANT\",\\n  \"Explanation\"...  184   \n",
       "3  {\\n  \"Relevance\": \"RELEVANT\",\\n  \"Explanation\"...   44   \n",
       "4  {\\n  \"Relevance\": \"RELEVANT\",\\n  \"Explanation\"...  213   \n",
       "\n",
       "                                            question  \\\n",
       "0  What kind of attractions can I typically find ...   \n",
       "1  What are some of the top attractions to visit ...   \n",
       "2  What are the other official language spoken in...   \n",
       "3  What is the most recommended time to visit to ...   \n",
       "4  What are some must-visit places to see when I ...   \n",
       "\n",
       "                                   parsed_evaluation relevance  \n",
       "0  {'Relevance': 'RELEVANT', 'Explanation': 'The ...  RELEVANT  \n",
       "1  {'Relevance': 'RELEVANT', 'Explanation': 'The ...  RELEVANT  \n",
       "2                                               None      None  \n",
       "3                                               None      None  \n",
       "4  {'Relevance': 'RELEVANT', 'Explanation': 'The ...  RELEVANT  "
      ]
     },
     "execution_count": 56,
     "metadata": {},
     "output_type": "execute_result"
    }
   ],
   "source": [
    "df_eval.head()"
   ]
  },
  {
   "cell_type": "code",
   "execution_count": 57,
   "metadata": {},
   "outputs": [],
   "source": [
    "df_eval.drop(columns=['parsed_evaluation'], inplace=True)"
   ]
  },
  {
   "cell_type": "code",
   "execution_count": 58,
   "metadata": {},
   "outputs": [
    {
     "data": {
      "text/html": [
       "<div>\n",
       "<style scoped>\n",
       "    .dataframe tbody tr th:only-of-type {\n",
       "        vertical-align: middle;\n",
       "    }\n",
       "\n",
       "    .dataframe tbody tr th {\n",
       "        vertical-align: top;\n",
       "    }\n",
       "\n",
       "    .dataframe thead th {\n",
       "        text-align: right;\n",
       "    }\n",
       "</style>\n",
       "<table border=\"1\" class=\"dataframe\">\n",
       "  <thead>\n",
       "    <tr style=\"text-align: right;\">\n",
       "      <th></th>\n",
       "      <th>record</th>\n",
       "      <th>answer</th>\n",
       "      <th>evaluation</th>\n",
       "      <th>id</th>\n",
       "      <th>question</th>\n",
       "      <th>relevance</th>\n",
       "    </tr>\n",
       "  </thead>\n",
       "  <tbody>\n",
       "    <tr>\n",
       "      <th>0</th>\n",
       "      <td>{'id': 198, 'question': 'What kind of attracti...</td>\n",
       "      <td>You can typically find cultural and historical...</td>\n",
       "      <td>{\\n  \"Relevance\": \"RELEVANT\",\\n  \"Explanation\"...</td>\n",
       "      <td>198</td>\n",
       "      <td>What kind of attractions can I typically find ...</td>\n",
       "      <td>RELEVANT</td>\n",
       "    </tr>\n",
       "    <tr>\n",
       "      <th>1</th>\n",
       "      <td>{'id': 137, 'question': 'What are some of the ...</td>\n",
       "      <td>Based on the context provided, some of the top...</td>\n",
       "      <td>{\\n  \"Relevance\": \"RELEVANT\",\\n  \"Explanation\"...</td>\n",
       "      <td>137</td>\n",
       "      <td>What are some of the top attractions to visit ...</td>\n",
       "      <td>RELEVANT</td>\n",
       "    </tr>\n",
       "    <tr>\n",
       "      <th>2</th>\n",
       "      <td>{'id': 184, 'question': 'What are the other of...</td>\n",
       "      <td>The other official language spoken in Auckland...</td>\n",
       "      <td>{\\n  \"Relevance\": \"RELEVANT\",\\n  \"Explanation\"...</td>\n",
       "      <td>184</td>\n",
       "      <td>What are the other official language spoken in...</td>\n",
       "      <td>None</td>\n",
       "    </tr>\n",
       "    <tr>\n",
       "      <th>3</th>\n",
       "      <td>{'id': 44, 'question': 'What is the most recom...</td>\n",
       "      <td>The most recommended time to visit Naples and ...</td>\n",
       "      <td>{\\n  \"Relevance\": \"RELEVANT\",\\n  \"Explanation\"...</td>\n",
       "      <td>44</td>\n",
       "      <td>What is the most recommended time to visit to ...</td>\n",
       "      <td>None</td>\n",
       "    </tr>\n",
       "    <tr>\n",
       "      <th>4</th>\n",
       "      <td>{'id': 213, 'question': 'What are some must-vi...</td>\n",
       "      <td>Athens, Greece is a city rich in history and c...</td>\n",
       "      <td>{\\n  \"Relevance\": \"RELEVANT\",\\n  \"Explanation\"...</td>\n",
       "      <td>213</td>\n",
       "      <td>What are some must-visit places to see when I ...</td>\n",
       "      <td>RELEVANT</td>\n",
       "    </tr>\n",
       "  </tbody>\n",
       "</table>\n",
       "</div>"
      ],
      "text/plain": [
       "                                              record  \\\n",
       "0  {'id': 198, 'question': 'What kind of attracti...   \n",
       "1  {'id': 137, 'question': 'What are some of the ...   \n",
       "2  {'id': 184, 'question': 'What are the other of...   \n",
       "3  {'id': 44, 'question': 'What is the most recom...   \n",
       "4  {'id': 213, 'question': 'What are some must-vi...   \n",
       "\n",
       "                                              answer  \\\n",
       "0  You can typically find cultural and historical...   \n",
       "1  Based on the context provided, some of the top...   \n",
       "2  The other official language spoken in Auckland...   \n",
       "3  The most recommended time to visit Naples and ...   \n",
       "4  Athens, Greece is a city rich in history and c...   \n",
       "\n",
       "                                          evaluation   id  \\\n",
       "0  {\\n  \"Relevance\": \"RELEVANT\",\\n  \"Explanation\"...  198   \n",
       "1  {\\n  \"Relevance\": \"RELEVANT\",\\n  \"Explanation\"...  137   \n",
       "2  {\\n  \"Relevance\": \"RELEVANT\",\\n  \"Explanation\"...  184   \n",
       "3  {\\n  \"Relevance\": \"RELEVANT\",\\n  \"Explanation\"...   44   \n",
       "4  {\\n  \"Relevance\": \"RELEVANT\",\\n  \"Explanation\"...  213   \n",
       "\n",
       "                                            question relevance  \n",
       "0  What kind of attractions can I typically find ...  RELEVANT  \n",
       "1  What are some of the top attractions to visit ...  RELEVANT  \n",
       "2  What are the other official language spoken in...      None  \n",
       "3  What is the most recommended time to visit to ...      None  \n",
       "4  What are some must-visit places to see when I ...  RELEVANT  "
      ]
     },
     "execution_count": 58,
     "metadata": {},
     "output_type": "execute_result"
    }
   ],
   "source": [
    "df_eval.head()"
   ]
  },
  {
   "cell_type": "code",
   "execution_count": 59,
   "metadata": {},
   "outputs": [],
   "source": [
    "# df_eval['explanation'] = df_eval.evaluation.apply(lambda d: d['Explanation'])\n",
    "# Apply the function to parse the JSON strings in the evaluation column\n",
    "df_eval['parsed_evaluation'] = df_eval['evaluation'].apply(parse_json)"
   ]
  },
  {
   "cell_type": "code",
   "execution_count": 60,
   "metadata": {},
   "outputs": [
    {
     "data": {
      "text/html": [
       "<div>\n",
       "<style scoped>\n",
       "    .dataframe tbody tr th:only-of-type {\n",
       "        vertical-align: middle;\n",
       "    }\n",
       "\n",
       "    .dataframe tbody tr th {\n",
       "        vertical-align: top;\n",
       "    }\n",
       "\n",
       "    .dataframe thead th {\n",
       "        text-align: right;\n",
       "    }\n",
       "</style>\n",
       "<table border=\"1\" class=\"dataframe\">\n",
       "  <thead>\n",
       "    <tr style=\"text-align: right;\">\n",
       "      <th></th>\n",
       "      <th>record</th>\n",
       "      <th>answer</th>\n",
       "      <th>evaluation</th>\n",
       "      <th>id</th>\n",
       "      <th>question</th>\n",
       "      <th>relevance</th>\n",
       "      <th>parsed_evaluation</th>\n",
       "    </tr>\n",
       "  </thead>\n",
       "  <tbody>\n",
       "    <tr>\n",
       "      <th>0</th>\n",
       "      <td>{'id': 198, 'question': 'What kind of attracti...</td>\n",
       "      <td>You can typically find cultural and historical...</td>\n",
       "      <td>{\\n  \"Relevance\": \"RELEVANT\",\\n  \"Explanation\"...</td>\n",
       "      <td>198</td>\n",
       "      <td>What kind of attractions can I typically find ...</td>\n",
       "      <td>RELEVANT</td>\n",
       "      <td>{'Relevance': 'RELEVANT', 'Explanation': 'The ...</td>\n",
       "    </tr>\n",
       "    <tr>\n",
       "      <th>1</th>\n",
       "      <td>{'id': 137, 'question': 'What are some of the ...</td>\n",
       "      <td>Based on the context provided, some of the top...</td>\n",
       "      <td>{\\n  \"Relevance\": \"RELEVANT\",\\n  \"Explanation\"...</td>\n",
       "      <td>137</td>\n",
       "      <td>What are some of the top attractions to visit ...</td>\n",
       "      <td>RELEVANT</td>\n",
       "      <td>{'Relevance': 'RELEVANT', 'Explanation': 'The ...</td>\n",
       "    </tr>\n",
       "    <tr>\n",
       "      <th>2</th>\n",
       "      <td>{'id': 184, 'question': 'What are the other of...</td>\n",
       "      <td>The other official language spoken in Auckland...</td>\n",
       "      <td>{\\n  \"Relevance\": \"RELEVANT\",\\n  \"Explanation\"...</td>\n",
       "      <td>184</td>\n",
       "      <td>What are the other official language spoken in...</td>\n",
       "      <td>None</td>\n",
       "      <td>None</td>\n",
       "    </tr>\n",
       "    <tr>\n",
       "      <th>3</th>\n",
       "      <td>{'id': 44, 'question': 'What is the most recom...</td>\n",
       "      <td>The most recommended time to visit Naples and ...</td>\n",
       "      <td>{\\n  \"Relevance\": \"RELEVANT\",\\n  \"Explanation\"...</td>\n",
       "      <td>44</td>\n",
       "      <td>What is the most recommended time to visit to ...</td>\n",
       "      <td>None</td>\n",
       "      <td>None</td>\n",
       "    </tr>\n",
       "    <tr>\n",
       "      <th>4</th>\n",
       "      <td>{'id': 213, 'question': 'What are some must-vi...</td>\n",
       "      <td>Athens, Greece is a city rich in history and c...</td>\n",
       "      <td>{\\n  \"Relevance\": \"RELEVANT\",\\n  \"Explanation\"...</td>\n",
       "      <td>213</td>\n",
       "      <td>What are some must-visit places to see when I ...</td>\n",
       "      <td>RELEVANT</td>\n",
       "      <td>{'Relevance': 'RELEVANT', 'Explanation': 'The ...</td>\n",
       "    </tr>\n",
       "  </tbody>\n",
       "</table>\n",
       "</div>"
      ],
      "text/plain": [
       "                                              record  \\\n",
       "0  {'id': 198, 'question': 'What kind of attracti...   \n",
       "1  {'id': 137, 'question': 'What are some of the ...   \n",
       "2  {'id': 184, 'question': 'What are the other of...   \n",
       "3  {'id': 44, 'question': 'What is the most recom...   \n",
       "4  {'id': 213, 'question': 'What are some must-vi...   \n",
       "\n",
       "                                              answer  \\\n",
       "0  You can typically find cultural and historical...   \n",
       "1  Based on the context provided, some of the top...   \n",
       "2  The other official language spoken in Auckland...   \n",
       "3  The most recommended time to visit Naples and ...   \n",
       "4  Athens, Greece is a city rich in history and c...   \n",
       "\n",
       "                                          evaluation   id  \\\n",
       "0  {\\n  \"Relevance\": \"RELEVANT\",\\n  \"Explanation\"...  198   \n",
       "1  {\\n  \"Relevance\": \"RELEVANT\",\\n  \"Explanation\"...  137   \n",
       "2  {\\n  \"Relevance\": \"RELEVANT\",\\n  \"Explanation\"...  184   \n",
       "3  {\\n  \"Relevance\": \"RELEVANT\",\\n  \"Explanation\"...   44   \n",
       "4  {\\n  \"Relevance\": \"RELEVANT\",\\n  \"Explanation\"...  213   \n",
       "\n",
       "                                            question relevance  \\\n",
       "0  What kind of attractions can I typically find ...  RELEVANT   \n",
       "1  What are some of the top attractions to visit ...  RELEVANT   \n",
       "2  What are the other official language spoken in...      None   \n",
       "3  What is the most recommended time to visit to ...      None   \n",
       "4  What are some must-visit places to see when I ...  RELEVANT   \n",
       "\n",
       "                                   parsed_evaluation  \n",
       "0  {'Relevance': 'RELEVANT', 'Explanation': 'The ...  \n",
       "1  {'Relevance': 'RELEVANT', 'Explanation': 'The ...  \n",
       "2                                               None  \n",
       "3                                               None  \n",
       "4  {'Relevance': 'RELEVANT', 'Explanation': 'The ...  "
      ]
     },
     "execution_count": 60,
     "metadata": {},
     "output_type": "execute_result"
    }
   ],
   "source": [
    "df_eval.head()"
   ]
  },
  {
   "cell_type": "code",
   "execution_count": 61,
   "metadata": {},
   "outputs": [
    {
     "data": {
      "text/plain": [
       "relevance\n",
       "RELEVANT           0.887324\n",
       "PARTLY_RELEVANT    0.098592\n",
       "NON_RELEVANT       0.014085\n",
       "Name: proportion, dtype: float64"
      ]
     },
     "execution_count": 61,
     "metadata": {},
     "output_type": "execute_result"
    }
   ],
   "source": [
    "df_eval.relevance.value_counts(normalize=True)"
   ]
  },
  {
   "cell_type": "code",
   "execution_count": 62,
   "metadata": {},
   "outputs": [],
   "source": [
    "df_eval.to_csv('../data/rag-eval-llama70b.csv', index=False)"
   ]
  },
  {
   "cell_type": "code",
   "execution_count": 63,
   "metadata": {},
   "outputs": [
    {
     "data": {
      "text/html": [
       "<div>\n",
       "<style scoped>\n",
       "    .dataframe tbody tr th:only-of-type {\n",
       "        vertical-align: middle;\n",
       "    }\n",
       "\n",
       "    .dataframe tbody tr th {\n",
       "        vertical-align: top;\n",
       "    }\n",
       "\n",
       "    .dataframe thead th {\n",
       "        text-align: right;\n",
       "    }\n",
       "</style>\n",
       "<table border=\"1\" class=\"dataframe\">\n",
       "  <thead>\n",
       "    <tr style=\"text-align: right;\">\n",
       "      <th></th>\n",
       "      <th>record</th>\n",
       "      <th>answer</th>\n",
       "      <th>evaluation</th>\n",
       "      <th>id</th>\n",
       "      <th>question</th>\n",
       "      <th>relevance</th>\n",
       "      <th>parsed_evaluation</th>\n",
       "    </tr>\n",
       "  </thead>\n",
       "  <tbody>\n",
       "    <tr>\n",
       "      <th>53</th>\n",
       "      <td>{'id': 152, 'question': 'What are some popular...</td>\n",
       "      <td>There is no information in the given context a...</td>\n",
       "      <td>{\\n  \"Relevance\": \"NON_RELEVANT\",\\n  \"Explanat...</td>\n",
       "      <td>152</td>\n",
       "      <td>What are some popular food items that reflect ...</td>\n",
       "      <td>NON_RELEVANT</td>\n",
       "      <td>{'Relevance': 'NON_RELEVANT', 'Explanation': '...</td>\n",
       "    </tr>\n",
       "  </tbody>\n",
       "</table>\n",
       "</div>"
      ],
      "text/plain": [
       "                                               record  \\\n",
       "53  {'id': 152, 'question': 'What are some popular...   \n",
       "\n",
       "                                               answer  \\\n",
       "53  There is no information in the given context a...   \n",
       "\n",
       "                                           evaluation   id  \\\n",
       "53  {\\n  \"Relevance\": \"NON_RELEVANT\",\\n  \"Explanat...  152   \n",
       "\n",
       "                                             question     relevance  \\\n",
       "53  What are some popular food items that reflect ...  NON_RELEVANT   \n",
       "\n",
       "                                    parsed_evaluation  \n",
       "53  {'Relevance': 'NON_RELEVANT', 'Explanation': '...  "
      ]
     },
     "execution_count": 63,
     "metadata": {},
     "output_type": "execute_result"
    }
   ],
   "source": [
    "df_eval[df_eval.relevance == 'NON_RELEVANT']"
   ]
  },
  {
   "cell_type": "code",
   "execution_count": null,
   "metadata": {},
   "outputs": [],
   "source": []
  },
  {
   "cell_type": "markdown",
   "metadata": {},
   "source": [
    "### ElasticSearch"
   ]
  },
  {
   "cell_type": "code",
   "execution_count": 64,
   "metadata": {},
   "outputs": [],
   "source": [
    "from elasticsearch import Elasticsearch"
   ]
  },
  {
   "cell_type": "code",
   "execution_count": 65,
   "metadata": {},
   "outputs": [],
   "source": [
    "es_client = Elasticsearch('http://localhost:9200') "
   ]
  },
  {
   "cell_type": "code",
   "execution_count": 66,
   "metadata": {},
   "outputs": [
    {
     "data": {
      "text/plain": [
       "id                           int64\n",
       "destination                 object\n",
       "user_review                 object\n",
       "travel_tip                  object\n",
       "rating                       int64\n",
       "best_time_to_visit          object\n",
       "local_cuisine_highlights    object\n",
       "location_coordinates        object\n",
       "popular_attractions         object\n",
       "transportation_options      object\n",
       "language_spoken             object\n",
       "safety_rating                int64\n",
       "activities_available        object\n",
       "cultural_highlights         object\n",
       "dtype: object"
      ]
     },
     "execution_count": 66,
     "metadata": {},
     "output_type": "execute_result"
    }
   ],
   "source": [
    "df.dtypes"
   ]
  },
  {
   "cell_type": "code",
   "execution_count": 67,
   "metadata": {},
   "outputs": [
    {
     "data": {
      "text/plain": [
       "ObjectApiResponse({'acknowledged': True, 'shards_acknowledged': True, 'index': 'travel-questions'})"
      ]
     },
     "execution_count": 67,
     "metadata": {},
     "output_type": "execute_result"
    }
   ],
   "source": [
    "index_settings = {\n",
    "    \"settings\": {\n",
    "        \"number_of_shards\": 1,\n",
    "        \"number_of_replicas\": 0\n",
    "    },\n",
    "    \"mappings\": {\n",
    "        \"properties\": {\n",
    "          \"id\": {\"type\": \"integer\"},\n",
    "            \"destination\": {\"type\": \"text\"},\n",
    "            \"user_review\": {\"type\": \"text\"},\n",
    "            \"travel_tip\": {\"type\": \"text\"},\n",
    "            \"rating\": {\"type\": \"integer\"},\n",
    "            \"best_time_to_visit\": {\"type\": \"text\"},\n",
    "            \"local_cuisine_highlights\": {\"type\": \"text\"},\n",
    "            \"location_coordinates\": {\"type\": \"text\"},\n",
    "            \"popular_attractions\": {\"type\": \"text\"},\n",
    "            \"transportation_options\": {\"type\": \"text\"},\n",
    "            \"language_spoken\": {\"type\": \"text\"},\n",
    "            \"safety_rating\": {\"type\": \"integer\"},\n",
    "            \"activities_available\": {\"type\": \"text\"},\n",
    "            \"cultural_highlights\": {\"type\": \"text\"}\n",
    "        }\n",
    "    }\n",
    "}\n",
    "\n",
    "index_name = \"travel-questions\"\n",
    "\n",
    "es_client.indices.create(index=index_name, body=index_settings)"
   ]
  },
  {
   "cell_type": "code",
   "execution_count": 68,
   "metadata": {},
   "outputs": [
    {
     "data": {
      "text/plain": [
       "{'id': 1,\n",
       " 'destination': 'paris, france',\n",
       " 'user_review': 'Visiting the Eiffel Tower was breathtaking! The views from the top are unforgettable.',\n",
       " 'travel_tip': 'Book tickets online to avoid long lines!',\n",
       " 'rating': 5,\n",
       " 'best_time_to_visit': 'April to June, September',\n",
       " 'local_cuisine_highlights': 'Croissants, Macarons',\n",
       " 'location_coordinates': '48.8584° N, 2.2945° E',\n",
       " 'popular_attractions': 'Louvre, Notre-Dame, Montmartre',\n",
       " 'transportation_options': 'Metro, Buses, Walking',\n",
       " 'language_spoken': 'French',\n",
       " 'safety_rating': 4,\n",
       " 'activities_available': 'Seine River Cruises, Art Tours',\n",
       " 'cultural_highlights': 'Fashion, Art, Romantic Spots'}"
      ]
     },
     "execution_count": 68,
     "metadata": {},
     "output_type": "execute_result"
    }
   ],
   "source": [
    "documents[0]"
   ]
  },
  {
   "cell_type": "code",
   "execution_count": 69,
   "metadata": {},
   "outputs": [],
   "source": [
    "from tqdm.auto import tqdm"
   ]
  },
  {
   "cell_type": "code",
   "execution_count": 70,
   "metadata": {},
   "outputs": [
    {
     "name": "stderr",
     "output_type": "stream",
     "text": [
      "100%|██████████| 215/215 [00:19<00:00, 11.06it/s]\n"
     ]
    }
   ],
   "source": [
    "for doc in tqdm(documents):\n",
    "    es_client.index(index=index_name, document=doc)"
   ]
  },
  {
   "cell_type": "code",
   "execution_count": 81,
   "metadata": {},
   "outputs": [],
   "source": [
    "query = 'where can i travel in barcelona, spain'"
   ]
  },
  {
   "cell_type": "code",
   "execution_count": 76,
   "metadata": {},
   "outputs": [],
   "source": [
    "def elastic_search(query):\n",
    "    search_query = {\n",
    "    \"size\": 5,\n",
    "    \"query\": {\n",
    "        \"bool\": {\n",
    "            \"must\": {\n",
    "                \"multi_match\": {\n",
    "                    \"query\": query,\n",
    "                    \"fields\": [\n",
    "                        \"destination\",\n",
    "                        \"user_review\",\n",
    "                        \"travel_tip\",\n",
    "                        \"best_time_to_visit\",\n",
    "                        \"local_cuisine_highlights\",\n",
    "                        \"location_coordinates\",\n",
    "                        \"popular_attractions\",\n",
    "                        \"transportation_options\",\n",
    "                        \"language_spoken\",\n",
    "                        \"activities_available\",\n",
    "                        \"cultural_highlights\"\n",
    "                    ],\n",
    "                    \"type\": \"best_fields\"\n",
    "                }\n",
    "            },\n",
    "            \"filter\": [\n",
    "                {\"range\": {\"rating\": {\"gte\": 3}}},  # Example filter for ratings\n",
    "                {\"range\": {\"safety_rating\": {\"gte\": 4}}}  # Example filter for safety\n",
    "            ]\n",
    "        }\n",
    "    }\n",
    "}\n",
    "\n",
    "\n",
    "    response = es_client.search(index=index_name, body=search_query)\n",
    "    \n",
    "    result_docs = []\n",
    "    \n",
    "    for hit in response['hits']['hits']:\n",
    "        result_docs.append(hit['_source'])\n",
    "    \n",
    "    return result_docs\n"
   ]
  },
  {
   "cell_type": "code",
   "execution_count": 77,
   "metadata": {},
   "outputs": [],
   "source": [
    "def rag(query):\n",
    "    search_results = elastic_search(query)\n",
    "    prompt = build_prompt(query, search_results)\n",
    "    answer = llm(prompt)\n",
    "    return answer"
   ]
  },
  {
   "cell_type": "code",
   "execution_count": 83,
   "metadata": {},
   "outputs": [
    {
     "name": "stdout",
     "output_type": "stream",
     "text": [
      "Based on the context, here are some travel recommendations for Barcelona, Spain:\n",
      "\n",
      "* Must-visit attractions: La Sagrada Familia, Park Güell, and the Gothic Quarter.\n",
      "* Transportation options: Metro, buses, and walking.\n",
      "* Local cuisine highlights: Tapas and Paella.\n",
      "* Best time to visit: May to September.\n",
      "* Activities available: Flamenco shows and bike tours.\n",
      "* Cultural highlights: Architecture and festivals.\n",
      "\n",
      "These are all based on the specific text provided in the context about Barcelona, Spain.\n"
     ]
    }
   ],
   "source": [
    "print(rag(query))"
   ]
  },
  {
   "cell_type": "code",
   "execution_count": null,
   "metadata": {},
   "outputs": [],
   "source": []
  }
 ],
 "metadata": {
  "kernelspec": {
   "display_name": "base",
   "language": "python",
   "name": "python3"
  },
  "language_info": {
   "codemirror_mode": {
    "name": "ipython",
    "version": 3
   },
   "file_extension": ".py",
   "mimetype": "text/x-python",
   "name": "python",
   "nbconvert_exporter": "python",
   "pygments_lexer": "ipython3",
   "version": "3.12.2"
  }
 },
 "nbformat": 4,
 "nbformat_minor": 2
}
